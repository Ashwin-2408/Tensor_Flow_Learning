{
  "nbformat": 4,
  "nbformat_minor": 0,
  "metadata": {
    "colab": {
      "provenance": [],
      "authorship_tag": "ABX9TyPzCh0YPpvJicH6vNYdO1O+",
      "include_colab_link": true
    },
    "kernelspec": {
      "name": "python3",
      "display_name": "Python 3"
    },
    "language_info": {
      "name": "python"
    }
  },
  "cells": [
    {
      "cell_type": "markdown",
      "metadata": {
        "id": "view-in-github",
        "colab_type": "text"
      },
      "source": [
        "<a href=\"https://colab.research.google.com/github/Ashwin-2408/Tensor_Flow_Learning/blob/main/notebooks/TensorFlowBasics.ipynb\" target=\"_parent\"><img src=\"https://colab.research.google.com/assets/colab-badge.svg\" alt=\"Open In Colab\"/></a>"
      ]
    },
    {
      "cell_type": "code",
      "execution_count": null,
      "metadata": {
        "colab": {
          "base_uri": "https://localhost:8080/"
        },
        "id": "LPAKKaPHhQdz",
        "outputId": "373e74f7-5337-4ad4-f8ed-b0661e8c9d16"
      },
      "outputs": [
        {
          "output_type": "stream",
          "name": "stdout",
          "text": [
            "2.18.0\n"
          ]
        }
      ],
      "source": [
        "import tensorflow as tf\n",
        "print(tf.__version__)"
      ]
    },
    {
      "cell_type": "code",
      "source": [
        "#creating a scalar tensor\n",
        "scalar=tf.constant(7)\n",
        "scalar"
      ],
      "metadata": {
        "colab": {
          "base_uri": "https://localhost:8080/"
        },
        "id": "ypiS5Y5woDUy",
        "outputId": "0c947d6b-4fa5-4615-f255-16699f80308d"
      },
      "execution_count": null,
      "outputs": [
        {
          "output_type": "execute_result",
          "data": {
            "text/plain": [
              "<tf.Tensor: shape=(), dtype=int32, numpy=7>"
            ]
          },
          "metadata": {},
          "execution_count": 2
        }
      ]
    },
    {
      "cell_type": "code",
      "source": [
        "scalar.ndim"
      ],
      "metadata": {
        "colab": {
          "base_uri": "https://localhost:8080/"
        },
        "id": "RQOQx2xhpvrm",
        "outputId": "77ab85ea-4faa-4bf1-e84d-571c40cc2835"
      },
      "execution_count": null,
      "outputs": [
        {
          "output_type": "execute_result",
          "data": {
            "text/plain": [
              "0"
            ]
          },
          "metadata": {},
          "execution_count": 3
        }
      ]
    },
    {
      "cell_type": "code",
      "source": [
        "#create a vector\n",
        "vector=tf.constant([10,10])\n",
        "vector"
      ],
      "metadata": {
        "colab": {
          "base_uri": "https://localhost:8080/"
        },
        "id": "QfkXDlVtqkTG",
        "outputId": "942d72f9-f26b-412b-c130-3157183893a8"
      },
      "execution_count": null,
      "outputs": [
        {
          "output_type": "execute_result",
          "data": {
            "text/plain": [
              "<tf.Tensor: shape=(2,), dtype=int32, numpy=array([10, 10], dtype=int32)>"
            ]
          },
          "metadata": {},
          "execution_count": 5
        }
      ]
    },
    {
      "cell_type": "code",
      "source": [
        "vector.ndim"
      ],
      "metadata": {
        "colab": {
          "base_uri": "https://localhost:8080/"
        },
        "id": "t3_VEuguretJ",
        "outputId": "63ca3c17-481c-4154-eea1-c527bda6943e"
      },
      "execution_count": null,
      "outputs": [
        {
          "output_type": "execute_result",
          "data": {
            "text/plain": [
              "1"
            ]
          },
          "metadata": {},
          "execution_count": 6
        }
      ]
    },
    {
      "cell_type": "code",
      "source": [
        "#create a matrix\n",
        "matrix=tf.constant([[1,2],[2,10]])\n",
        "matrix"
      ],
      "metadata": {
        "colab": {
          "base_uri": "https://localhost:8080/"
        },
        "id": "eL11LLugrg3F",
        "outputId": "62756e80-9b1a-4fa3-d175-aadcf4b1a97f"
      },
      "execution_count": null,
      "outputs": [
        {
          "output_type": "execute_result",
          "data": {
            "text/plain": [
              "<tf.Tensor: shape=(2, 2), dtype=int32, numpy=\n",
              "array([[ 1,  2],\n",
              "       [ 2, 10]], dtype=int32)>"
            ]
          },
          "metadata": {},
          "execution_count": 9
        }
      ]
    },
    {
      "cell_type": "code",
      "source": [
        "matrix.ndim\n"
      ],
      "metadata": {
        "colab": {
          "base_uri": "https://localhost:8080/"
        },
        "id": "hk_loY5Hrzw9",
        "outputId": "e4fa932b-231a-442b-fbc4-41bfac564334"
      },
      "execution_count": null,
      "outputs": [
        {
          "output_type": "execute_result",
          "data": {
            "text/plain": [
              "2"
            ]
          },
          "metadata": {},
          "execution_count": 11
        }
      ]
    },
    {
      "cell_type": "code",
      "source": [
        "#create another matrix\n",
        "matrix2=tf.constant([[12],[12],[12]],dtype=tf.float16)\n",
        "matrix2"
      ],
      "metadata": {
        "colab": {
          "base_uri": "https://localhost:8080/"
        },
        "id": "MdP7d0Ivsf0p",
        "outputId": "4e0d23c9-e223-481c-f1b5-c8e5f6e8931e"
      },
      "execution_count": null,
      "outputs": [
        {
          "output_type": "execute_result",
          "data": {
            "text/plain": [
              "<tf.Tensor: shape=(3, 1), dtype=float16, numpy=\n",
              "array([[12.],\n",
              "       [12.],\n",
              "       [12.]], dtype=float16)>"
            ]
          },
          "metadata": {},
          "execution_count": 16
        }
      ]
    },
    {
      "cell_type": "code",
      "source": [
        "#3 dimensional tensor\n",
        "tensor=tf.constant([[[1,2,3],[4,5,6]],[[7,8,9],[10,11,12]],[[13,14,15],[16,17,18]]])\n",
        "tensor"
      ],
      "metadata": {
        "colab": {
          "base_uri": "https://localhost:8080/"
        },
        "id": "k0H_KlfEsh_u",
        "outputId": "6de655d4-0ef5-4011-f6d4-80f5a00e2f1d"
      },
      "execution_count": null,
      "outputs": [
        {
          "output_type": "execute_result",
          "data": {
            "text/plain": [
              "<tf.Tensor: shape=(3, 2, 3), dtype=int32, numpy=\n",
              "array([[[ 1,  2,  3],\n",
              "        [ 4,  5,  6]],\n",
              "\n",
              "       [[ 7,  8,  9],\n",
              "        [10, 11, 12]],\n",
              "\n",
              "       [[13, 14, 15],\n",
              "        [16, 17, 18]]], dtype=int32)>"
            ]
          },
          "metadata": {},
          "execution_count": 18
        }
      ]
    },
    {
      "cell_type": "code",
      "source": [
        "tensor.ndim"
      ],
      "metadata": {
        "id": "siEtxfj-uapt",
        "outputId": "92843dfc-87d3-4e2f-807e-695d34def6bf",
        "colab": {
          "base_uri": "https://localhost:8080/"
        }
      },
      "execution_count": null,
      "outputs": [
        {
          "output_type": "execute_result",
          "data": {
            "text/plain": [
              "3"
            ]
          },
          "metadata": {},
          "execution_count": 19
        }
      ]
    },
    {
      "cell_type": "code",
      "source": [
        "#Lets create tensorflow Variables\n",
        "var=tf.Variable([4,4])\n",
        "var"
      ],
      "metadata": {
        "id": "6Gjennw1ud-L",
        "colab": {
          "base_uri": "https://localhost:8080/"
        },
        "outputId": "c5cc4e2a-d958-4824-faa2-f936706676e3"
      },
      "execution_count": 20,
      "outputs": [
        {
          "output_type": "execute_result",
          "data": {
            "text/plain": [
              "<tf.Variable 'Variable:0' shape=(2,) dtype=int32, numpy=array([4, 4], dtype=int32)>"
            ]
          },
          "metadata": {},
          "execution_count": 20
        }
      ]
    },
    {
      "cell_type": "markdown",
      "source": [
        "Variable: The name of the variable. If you don't explicitly give it a name, TensorFlow auto-generates one.\n",
        "\n",
        "0: Refers to the first output tensor of that variable (most variables only have one output, so it’s usually :0)."
      ],
      "metadata": {
        "id": "U3LAYGFY-b2R"
      }
    },
    {
      "cell_type": "code",
      "source": [
        "#reassigning the tensor variable using (.assign)\n",
        "var[0].assign(9)\n",
        "var"
      ],
      "metadata": {
        "colab": {
          "base_uri": "https://localhost:8080/"
        },
        "id": "pRySub8U-IWy",
        "outputId": "faee665e-d38f-4b73-b892-f3212d01fea1"
      },
      "execution_count": 21,
      "outputs": [
        {
          "output_type": "execute_result",
          "data": {
            "text/plain": [
              "<tf.Variable 'Variable:0' shape=(2,) dtype=int32, numpy=array([9, 4], dtype=int32)>"
            ]
          },
          "metadata": {},
          "execution_count": 21
        }
      ]
    },
    {
      "cell_type": "code",
      "source": [
        "var[0]=8"
      ],
      "metadata": {
        "colab": {
          "base_uri": "https://localhost:8080/",
          "height": 141
        },
        "id": "sFercDIY-qv5",
        "outputId": "17a5c00a-02e1-4e50-dd0f-712efa20be7f"
      },
      "execution_count": 22,
      "outputs": [
        {
          "output_type": "error",
          "ename": "TypeError",
          "evalue": "'ResourceVariable' object does not support item assignment",
          "traceback": [
            "\u001b[0;31m---------------------------------------------------------------------------\u001b[0m",
            "\u001b[0;31mTypeError\u001b[0m                                 Traceback (most recent call last)",
            "\u001b[0;32m<ipython-input-22-4b969d487943>\u001b[0m in \u001b[0;36m<cell line: 0>\u001b[0;34m()\u001b[0m\n\u001b[0;32m----> 1\u001b[0;31m \u001b[0mvar\u001b[0m\u001b[0;34m[\u001b[0m\u001b[0;36m0\u001b[0m\u001b[0;34m]\u001b[0m\u001b[0;34m=\u001b[0m\u001b[0;36m8\u001b[0m\u001b[0;34m\u001b[0m\u001b[0;34m\u001b[0m\u001b[0m\n\u001b[0m",
            "\u001b[0;31mTypeError\u001b[0m: 'ResourceVariable' object does not support item assignment"
          ]
        }
      ]
    },
    {
      "cell_type": "markdown",
      "source": [
        "Assignment using direct indexing doensn't work we will have to use the (.assign()) function to reassign any values"
      ],
      "metadata": {
        "id": "Gh6Ebwwn-8bb"
      }
    },
    {
      "cell_type": "markdown",
      "source": [
        "**Note:**\n",
        "We will rarely be deciding whether to use tf.constant or tf.variable,Tensorflow does this for us.However,if in doubt use tf.constant and can be changed later\n"
      ],
      "metadata": {
        "id": "w0y0OG86A2gK"
      }
    },
    {
      "cell_type": "markdown",
      "source": [
        "\n",
        "\n",
        "---\n",
        "\n"
      ],
      "metadata": {
        "id": "10hqjQjQBdNZ"
      }
    },
    {
      "cell_type": "markdown",
      "source": [
        "## Creating Random Tensors\n"
      ],
      "metadata": {
        "id": "T7waf6mIBfCk"
      }
    },
    {
      "cell_type": "markdown",
      "source": [
        "Random tensors are tensors of arbitrary size filled with random numbers"
      ],
      "metadata": {
        "id": "JX1Rkh32B2fa"
      }
    },
    {
      "cell_type": "markdown",
      "source": [
        "\n",
        "\n",
        "---\n",
        "Creating a random constant tensor\n",
        "\n"
      ],
      "metadata": {
        "id": "PT046tuLEp2B"
      }
    },
    {
      "cell_type": "code",
      "source": [
        "random_tensor=tf.random.uniform(shape=[] ,minval=5, maxval=10)\n",
        "random_tensor\n"
      ],
      "metadata": {
        "colab": {
          "base_uri": "https://localhost:8080/"
        },
        "id": "M0WxdP6--u07",
        "outputId": "4aa83364-60a5-445d-e444-f51fe2a830bc"
      },
      "execution_count": 29,
      "outputs": [
        {
          "output_type": "execute_result",
          "data": {
            "text/plain": [
              "<tf.Tensor: shape=(), dtype=float32, numpy=8.914843559265137>"
            ]
          },
          "metadata": {},
          "execution_count": 29
        }
      ]
    },
    {
      "cell_type": "markdown",
      "source": [
        "We are using a uniform distribution\n",
        "\n",
        "minval: lower bound (inclusive)\n",
        "\n",
        "maxval: upper bound (exclusive)"
      ],
      "metadata": {
        "id": "XIP8ecskEo3G"
      }
    },
    {
      "cell_type": "code",
      "source": [
        "random_vector=tf.random.uniform(shape=[2,2],dtype=tf.float16)\n",
        "random_vector"
      ],
      "metadata": {
        "colab": {
          "base_uri": "https://localhost:8080/"
        },
        "id": "9ILy8fTwEXWu",
        "outputId": "01f46ada-6d24-49c3-ea79-74d61dd542d0"
      },
      "execution_count": 33,
      "outputs": [
        {
          "output_type": "execute_result",
          "data": {
            "text/plain": [
              "<tf.Tensor: shape=(2, 2), dtype=float16, numpy=\n",
              "array([[0.3232, 0.2627],\n",
              "       [0.825 , 0.7266]], dtype=float16)>"
            ]
          },
          "metadata": {},
          "execution_count": 33
        }
      ]
    },
    {
      "cell_type": "markdown",
      "source": [
        "\n",
        "set_seed() function is used to reproduce the same sequence of numbers while generating random values"
      ],
      "metadata": {
        "id": "9fRprZaEG4O1"
      }
    },
    {
      "cell_type": "code",
      "source": [
        "tf.random.set_seed(5)\n",
        "vector=tf.random.normal(shape=[2,2])\n",
        "vector"
      ],
      "metadata": {
        "colab": {
          "base_uri": "https://localhost:8080/"
        },
        "id": "Jf4Qf_ORFCmL",
        "outputId": "d1dc4042-762e-4912-eb7b-ef3cee9a1d3c"
      },
      "execution_count": 34,
      "outputs": [
        {
          "output_type": "execute_result",
          "data": {
            "text/plain": [
              "<tf.Tensor: shape=(2, 2), dtype=float32, numpy=\n",
              "array([[-0.18030666, -0.95028627],\n",
              "       [-0.03964049, -0.7425406 ]], dtype=float32)>"
            ]
          },
          "metadata": {},
          "execution_count": 34
        }
      ]
    },
    {
      "cell_type": "code",
      "source": [
        "tf.random.set_seed(5)\n",
        "vector=tf.random.normal(shape=[2,2])\n",
        "vector"
      ],
      "metadata": {
        "colab": {
          "base_uri": "https://localhost:8080/"
        },
        "id": "vveBPxHxGXqg",
        "outputId": "f5f492ae-825a-4598-b650-0c2388285b22"
      },
      "execution_count": 37,
      "outputs": [
        {
          "output_type": "execute_result",
          "data": {
            "text/plain": [
              "<tf.Tensor: shape=(2, 2), dtype=float32, numpy=\n",
              "array([[-0.18030666, -0.95028627],\n",
              "       [-0.03964049, -0.7425406 ]], dtype=float32)>"
            ]
          },
          "metadata": {},
          "execution_count": 37
        }
      ]
    },
    {
      "cell_type": "code",
      "source": [
        "vector=tf.random.normal(shape=[2,2])\n",
        "vector"
      ],
      "metadata": {
        "colab": {
          "base_uri": "https://localhost:8080/"
        },
        "id": "XLtOJnz5GXMC",
        "outputId": "4f5141e8-1dd5-4609-cdc4-891e2ed9e864"
      },
      "execution_count": 38,
      "outputs": [
        {
          "output_type": "execute_result",
          "data": {
            "text/plain": [
              "<tf.Tensor: shape=(2, 2), dtype=float32, numpy=\n",
              "array([[0.22652864, 0.8106553 ],\n",
              "       [0.7466094 , 0.7749703 ]], dtype=float32)>"
            ]
          },
          "metadata": {},
          "execution_count": 38
        }
      ]
    },
    {
      "cell_type": "code",
      "source": [
        "g=tf.random.Generator.from_seed(5)\n",
        "gen1=g.uniform(shape=[2,2])\n",
        "saved_state = g.state.read_value()\n",
        "gen2=g.uniform(shape=[2,2])\n",
        "print(gen1)\n",
        "print(gen2)\n",
        "g.reset(saved_state)\n",
        "gen3=g.uniform(shape=[2,2])\n",
        "print(gen3)"
      ],
      "metadata": {
        "colab": {
          "base_uri": "https://localhost:8080/"
        },
        "id": "c7AoC5RVG2Nf",
        "outputId": "a5eb4110-02fd-4adf-ceb4-638842f5d1be"
      },
      "execution_count": 50,
      "outputs": [
        {
          "output_type": "stream",
          "name": "stdout",
          "text": [
            "tf.Tensor(\n",
            "[[0.567016   0.2077086 ]\n",
            " [0.18223882 0.99883735]], shape=(2, 2), dtype=float32)\n",
            "tf.Tensor(\n",
            "[[0.0657748  0.8750659 ]\n",
            " [0.60925746 0.4647795 ]], shape=(2, 2), dtype=float32)\n",
            "tf.Tensor(\n",
            "[[0.0657748  0.8750659 ]\n",
            " [0.60925746 0.4647795 ]], shape=(2, 2), dtype=float32)\n"
          ]
        }
      ]
    },
    {
      "cell_type": "markdown",
      "source": [
        "we get different values in gen1 and gen2 becasue the state has advanced"
      ],
      "metadata": {
        "id": "SzeSgoKuLhA0"
      }
    },
    {
      "cell_type": "markdown",
      "source": [
        "gen3 and gen2 have the same values because they are created from the same state"
      ],
      "metadata": {
        "id": "FAhxiWCOL-IN"
      }
    },
    {
      "cell_type": "code",
      "source": [],
      "metadata": {
        "id": "FJdNlBSVKJaP"
      },
      "execution_count": null,
      "outputs": []
    }
  ]
}