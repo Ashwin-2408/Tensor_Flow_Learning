{
  "nbformat": 4,
  "nbformat_minor": 0,
  "metadata": {
    "colab": {
      "provenance": [],
      "authorship_tag": "ABX9TyPKyL08UuSbT/+RzjCsCFhL",
      "include_colab_link": true
    },
    "kernelspec": {
      "name": "python3",
      "display_name": "Python 3"
    },
    "language_info": {
      "name": "python"
    }
  },
  "cells": [
    {
      "cell_type": "markdown",
      "metadata": {
        "id": "view-in-github",
        "colab_type": "text"
      },
      "source": [
        "<a href=\"https://colab.research.google.com/github/Ashwin-2408/Tensor_Flow_Learning/blob/main/notebooks/TensorFlowBasics.ipynb\" target=\"_parent\"><img src=\"https://colab.research.google.com/assets/colab-badge.svg\" alt=\"Open In Colab\"/></a>"
      ]
    },
    {
      "cell_type": "code",
      "execution_count": 2,
      "metadata": {
        "colab": {
          "base_uri": "https://localhost:8080/"
        },
        "id": "LPAKKaPHhQdz",
        "outputId": "9b573ad6-64f2-4bce-8005-fd3c05e1aede"
      },
      "outputs": [
        {
          "output_type": "stream",
          "name": "stdout",
          "text": [
            "2.18.0\n"
          ]
        }
      ],
      "source": [
        "import tensorflow as tf\n",
        "print(tf.__version__)"
      ]
    },
    {
      "cell_type": "code",
      "source": [
        "#creating a scalar tensor\n",
        "scalar=tf.constant(7)\n",
        "scalar"
      ],
      "metadata": {
        "colab": {
          "base_uri": "https://localhost:8080/"
        },
        "id": "ypiS5Y5woDUy",
        "outputId": "0c947d6b-4fa5-4615-f255-16699f80308d"
      },
      "execution_count": null,
      "outputs": [
        {
          "output_type": "execute_result",
          "data": {
            "text/plain": [
              "<tf.Tensor: shape=(), dtype=int32, numpy=7>"
            ]
          },
          "metadata": {},
          "execution_count": 2
        }
      ]
    },
    {
      "cell_type": "code",
      "source": [
        "scalar.ndim"
      ],
      "metadata": {
        "colab": {
          "base_uri": "https://localhost:8080/"
        },
        "id": "RQOQx2xhpvrm",
        "outputId": "77ab85ea-4faa-4bf1-e84d-571c40cc2835"
      },
      "execution_count": null,
      "outputs": [
        {
          "output_type": "execute_result",
          "data": {
            "text/plain": [
              "0"
            ]
          },
          "metadata": {},
          "execution_count": 3
        }
      ]
    },
    {
      "cell_type": "code",
      "source": [
        "#create a vector\n",
        "vector=tf.constant([10,10])\n",
        "vector"
      ],
      "metadata": {
        "colab": {
          "base_uri": "https://localhost:8080/"
        },
        "id": "QfkXDlVtqkTG",
        "outputId": "942d72f9-f26b-412b-c130-3157183893a8"
      },
      "execution_count": null,
      "outputs": [
        {
          "output_type": "execute_result",
          "data": {
            "text/plain": [
              "<tf.Tensor: shape=(2,), dtype=int32, numpy=array([10, 10], dtype=int32)>"
            ]
          },
          "metadata": {},
          "execution_count": 5
        }
      ]
    },
    {
      "cell_type": "code",
      "source": [
        "vector.ndim"
      ],
      "metadata": {
        "colab": {
          "base_uri": "https://localhost:8080/"
        },
        "id": "t3_VEuguretJ",
        "outputId": "63ca3c17-481c-4154-eea1-c527bda6943e"
      },
      "execution_count": null,
      "outputs": [
        {
          "output_type": "execute_result",
          "data": {
            "text/plain": [
              "1"
            ]
          },
          "metadata": {},
          "execution_count": 6
        }
      ]
    },
    {
      "cell_type": "code",
      "source": [
        "#create a matrix\n",
        "matrix=tf.constant([[1,2],[2,10]])\n",
        "matrix"
      ],
      "metadata": {
        "colab": {
          "base_uri": "https://localhost:8080/"
        },
        "id": "eL11LLugrg3F",
        "outputId": "62756e80-9b1a-4fa3-d175-aadcf4b1a97f"
      },
      "execution_count": null,
      "outputs": [
        {
          "output_type": "execute_result",
          "data": {
            "text/plain": [
              "<tf.Tensor: shape=(2, 2), dtype=int32, numpy=\n",
              "array([[ 1,  2],\n",
              "       [ 2, 10]], dtype=int32)>"
            ]
          },
          "metadata": {},
          "execution_count": 9
        }
      ]
    },
    {
      "cell_type": "code",
      "source": [
        "matrix.ndim\n"
      ],
      "metadata": {
        "colab": {
          "base_uri": "https://localhost:8080/"
        },
        "id": "hk_loY5Hrzw9",
        "outputId": "e4fa932b-231a-442b-fbc4-41bfac564334"
      },
      "execution_count": null,
      "outputs": [
        {
          "output_type": "execute_result",
          "data": {
            "text/plain": [
              "2"
            ]
          },
          "metadata": {},
          "execution_count": 11
        }
      ]
    },
    {
      "cell_type": "code",
      "source": [
        "#create another matrix\n",
        "matrix2=tf.constant([[12],[12],[12]],dtype=tf.float16)\n",
        "matrix2"
      ],
      "metadata": {
        "colab": {
          "base_uri": "https://localhost:8080/"
        },
        "id": "MdP7d0Ivsf0p",
        "outputId": "4e0d23c9-e223-481c-f1b5-c8e5f6e8931e"
      },
      "execution_count": null,
      "outputs": [
        {
          "output_type": "execute_result",
          "data": {
            "text/plain": [
              "<tf.Tensor: shape=(3, 1), dtype=float16, numpy=\n",
              "array([[12.],\n",
              "       [12.],\n",
              "       [12.]], dtype=float16)>"
            ]
          },
          "metadata": {},
          "execution_count": 16
        }
      ]
    },
    {
      "cell_type": "code",
      "source": [
        "#3 dimensional tensor\n",
        "tensor=tf.constant([[[1,2,3],[4,5,6]],[[7,8,9],[10,11,12]],[[13,14,15],[16,17,18]]])\n",
        "tensor"
      ],
      "metadata": {
        "colab": {
          "base_uri": "https://localhost:8080/"
        },
        "id": "k0H_KlfEsh_u",
        "outputId": "6de655d4-0ef5-4011-f6d4-80f5a00e2f1d"
      },
      "execution_count": null,
      "outputs": [
        {
          "output_type": "execute_result",
          "data": {
            "text/plain": [
              "<tf.Tensor: shape=(3, 2, 3), dtype=int32, numpy=\n",
              "array([[[ 1,  2,  3],\n",
              "        [ 4,  5,  6]],\n",
              "\n",
              "       [[ 7,  8,  9],\n",
              "        [10, 11, 12]],\n",
              "\n",
              "       [[13, 14, 15],\n",
              "        [16, 17, 18]]], dtype=int32)>"
            ]
          },
          "metadata": {},
          "execution_count": 18
        }
      ]
    },
    {
      "cell_type": "code",
      "source": [
        "tensor.ndim"
      ],
      "metadata": {
        "id": "siEtxfj-uapt",
        "outputId": "92843dfc-87d3-4e2f-807e-695d34def6bf",
        "colab": {
          "base_uri": "https://localhost:8080/"
        }
      },
      "execution_count": null,
      "outputs": [
        {
          "output_type": "execute_result",
          "data": {
            "text/plain": [
              "3"
            ]
          },
          "metadata": {},
          "execution_count": 19
        }
      ]
    },
    {
      "cell_type": "code",
      "source": [
        "#Lets create tensorflow Variables\n",
        "var=tf.Variable([4,4])\n",
        "var"
      ],
      "metadata": {
        "id": "6Gjennw1ud-L",
        "colab": {
          "base_uri": "https://localhost:8080/"
        },
        "outputId": "c5cc4e2a-d958-4824-faa2-f936706676e3"
      },
      "execution_count": null,
      "outputs": [
        {
          "output_type": "execute_result",
          "data": {
            "text/plain": [
              "<tf.Variable 'Variable:0' shape=(2,) dtype=int32, numpy=array([4, 4], dtype=int32)>"
            ]
          },
          "metadata": {},
          "execution_count": 20
        }
      ]
    },
    {
      "cell_type": "markdown",
      "source": [
        "Variable: The name of the variable. If you don't explicitly give it a name, TensorFlow auto-generates one.\n",
        "\n",
        "0: Refers to the first output tensor of that variable (most variables only have one output, so it’s usually :0)."
      ],
      "metadata": {
        "id": "U3LAYGFY-b2R"
      }
    },
    {
      "cell_type": "code",
      "source": [
        "#reassigning the tensor variable using (.assign)\n",
        "var[0].assign(9)\n",
        "var"
      ],
      "metadata": {
        "colab": {
          "base_uri": "https://localhost:8080/"
        },
        "id": "pRySub8U-IWy",
        "outputId": "faee665e-d38f-4b73-b892-f3212d01fea1"
      },
      "execution_count": null,
      "outputs": [
        {
          "output_type": "execute_result",
          "data": {
            "text/plain": [
              "<tf.Variable 'Variable:0' shape=(2,) dtype=int32, numpy=array([9, 4], dtype=int32)>"
            ]
          },
          "metadata": {},
          "execution_count": 21
        }
      ]
    },
    {
      "cell_type": "code",
      "source": [
        "var[0]=8"
      ],
      "metadata": {
        "colab": {
          "base_uri": "https://localhost:8080/",
          "height": 141
        },
        "id": "sFercDIY-qv5",
        "outputId": "17a5c00a-02e1-4e50-dd0f-712efa20be7f"
      },
      "execution_count": null,
      "outputs": [
        {
          "output_type": "error",
          "ename": "TypeError",
          "evalue": "'ResourceVariable' object does not support item assignment",
          "traceback": [
            "\u001b[0;31m---------------------------------------------------------------------------\u001b[0m",
            "\u001b[0;31mTypeError\u001b[0m                                 Traceback (most recent call last)",
            "\u001b[0;32m<ipython-input-22-4b969d487943>\u001b[0m in \u001b[0;36m<cell line: 0>\u001b[0;34m()\u001b[0m\n\u001b[0;32m----> 1\u001b[0;31m \u001b[0mvar\u001b[0m\u001b[0;34m[\u001b[0m\u001b[0;36m0\u001b[0m\u001b[0;34m]\u001b[0m\u001b[0;34m=\u001b[0m\u001b[0;36m8\u001b[0m\u001b[0;34m\u001b[0m\u001b[0;34m\u001b[0m\u001b[0m\n\u001b[0m",
            "\u001b[0;31mTypeError\u001b[0m: 'ResourceVariable' object does not support item assignment"
          ]
        }
      ]
    },
    {
      "cell_type": "markdown",
      "source": [
        "Assignment using direct indexing doensn't work we will have to use the (.assign()) function to reassign any values"
      ],
      "metadata": {
        "id": "Gh6Ebwwn-8bb"
      }
    },
    {
      "cell_type": "markdown",
      "source": [
        "**Note:**\n",
        "We will rarely be deciding whether to use tf.constant or tf.variable,Tensorflow does this for us.However,if in doubt use tf.constant and can be changed later\n"
      ],
      "metadata": {
        "id": "w0y0OG86A2gK"
      }
    },
    {
      "cell_type": "markdown",
      "source": [
        "\n",
        "\n",
        "---\n",
        "\n"
      ],
      "metadata": {
        "id": "10hqjQjQBdNZ"
      }
    },
    {
      "cell_type": "markdown",
      "source": [
        "## Creating Random Tensors\n"
      ],
      "metadata": {
        "id": "T7waf6mIBfCk"
      }
    },
    {
      "cell_type": "markdown",
      "source": [
        "Random tensors are tensors of arbitrary size filled with random numbers"
      ],
      "metadata": {
        "id": "JX1Rkh32B2fa"
      }
    },
    {
      "cell_type": "markdown",
      "source": [
        "\n",
        "\n",
        "---\n",
        "Creating a random constant tensor\n",
        "\n"
      ],
      "metadata": {
        "id": "PT046tuLEp2B"
      }
    },
    {
      "cell_type": "code",
      "source": [
        "random_tensor=tf.random.uniform(shape=[] ,minval=5, maxval=10)\n",
        "random_tensor\n"
      ],
      "metadata": {
        "colab": {
          "base_uri": "https://localhost:8080/"
        },
        "id": "M0WxdP6--u07",
        "outputId": "4aa83364-60a5-445d-e444-f51fe2a830bc"
      },
      "execution_count": null,
      "outputs": [
        {
          "output_type": "execute_result",
          "data": {
            "text/plain": [
              "<tf.Tensor: shape=(), dtype=float32, numpy=8.914843559265137>"
            ]
          },
          "metadata": {},
          "execution_count": 29
        }
      ]
    },
    {
      "cell_type": "markdown",
      "source": [
        "We are using a uniform distribution\n",
        "\n",
        "minval: lower bound (inclusive)\n",
        "\n",
        "maxval: upper bound (exclusive)"
      ],
      "metadata": {
        "id": "XIP8ecskEo3G"
      }
    },
    {
      "cell_type": "code",
      "source": [
        "random_vector=tf.random.uniform(shape=[2,2],dtype=tf.float16)\n",
        "random_vector"
      ],
      "metadata": {
        "colab": {
          "base_uri": "https://localhost:8080/"
        },
        "id": "9ILy8fTwEXWu",
        "outputId": "01f46ada-6d24-49c3-ea79-74d61dd542d0"
      },
      "execution_count": null,
      "outputs": [
        {
          "output_type": "execute_result",
          "data": {
            "text/plain": [
              "<tf.Tensor: shape=(2, 2), dtype=float16, numpy=\n",
              "array([[0.3232, 0.2627],\n",
              "       [0.825 , 0.7266]], dtype=float16)>"
            ]
          },
          "metadata": {},
          "execution_count": 33
        }
      ]
    },
    {
      "cell_type": "markdown",
      "source": [
        "\n",
        "set_seed() function is used to reproduce the same sequence of numbers while generating random values"
      ],
      "metadata": {
        "id": "9fRprZaEG4O1"
      }
    },
    {
      "cell_type": "code",
      "source": [
        "tf.random.set_seed(5)\n",
        "vector=tf.random.normal(shape=[2,2])\n",
        "vector"
      ],
      "metadata": {
        "colab": {
          "base_uri": "https://localhost:8080/"
        },
        "id": "Jf4Qf_ORFCmL",
        "outputId": "d1dc4042-762e-4912-eb7b-ef3cee9a1d3c"
      },
      "execution_count": null,
      "outputs": [
        {
          "output_type": "execute_result",
          "data": {
            "text/plain": [
              "<tf.Tensor: shape=(2, 2), dtype=float32, numpy=\n",
              "array([[-0.18030666, -0.95028627],\n",
              "       [-0.03964049, -0.7425406 ]], dtype=float32)>"
            ]
          },
          "metadata": {},
          "execution_count": 34
        }
      ]
    },
    {
      "cell_type": "code",
      "source": [
        "tf.random.set_seed(5)\n",
        "vector=tf.random.normal(shape=[2,2])\n",
        "vector"
      ],
      "metadata": {
        "colab": {
          "base_uri": "https://localhost:8080/"
        },
        "id": "vveBPxHxGXqg",
        "outputId": "f5f492ae-825a-4598-b650-0c2388285b22"
      },
      "execution_count": null,
      "outputs": [
        {
          "output_type": "execute_result",
          "data": {
            "text/plain": [
              "<tf.Tensor: shape=(2, 2), dtype=float32, numpy=\n",
              "array([[-0.18030666, -0.95028627],\n",
              "       [-0.03964049, -0.7425406 ]], dtype=float32)>"
            ]
          },
          "metadata": {},
          "execution_count": 37
        }
      ]
    },
    {
      "cell_type": "code",
      "source": [
        "vector=tf.random.normal(shape=[2,2])\n",
        "vector"
      ],
      "metadata": {
        "colab": {
          "base_uri": "https://localhost:8080/"
        },
        "id": "XLtOJnz5GXMC",
        "outputId": "4f5141e8-1dd5-4609-cdc4-891e2ed9e864"
      },
      "execution_count": null,
      "outputs": [
        {
          "output_type": "execute_result",
          "data": {
            "text/plain": [
              "<tf.Tensor: shape=(2, 2), dtype=float32, numpy=\n",
              "array([[0.22652864, 0.8106553 ],\n",
              "       [0.7466094 , 0.7749703 ]], dtype=float32)>"
            ]
          },
          "metadata": {},
          "execution_count": 38
        }
      ]
    },
    {
      "cell_type": "code",
      "source": [
        "g=tf.random.Generator.from_seed(5)\n",
        "gen1=g.uniform(shape=[2,2])\n",
        "saved_state = g.state.read_value()\n",
        "gen2=g.uniform(shape=[2,2])\n",
        "print(gen1)\n",
        "print(gen2)\n",
        "g.reset(saved_state)\n",
        "gen3=g.uniform(shape=[2,2])\n",
        "print(gen3)"
      ],
      "metadata": {
        "colab": {
          "base_uri": "https://localhost:8080/"
        },
        "id": "c7AoC5RVG2Nf",
        "outputId": "a5eb4110-02fd-4adf-ceb4-638842f5d1be"
      },
      "execution_count": null,
      "outputs": [
        {
          "output_type": "stream",
          "name": "stdout",
          "text": [
            "tf.Tensor(\n",
            "[[0.567016   0.2077086 ]\n",
            " [0.18223882 0.99883735]], shape=(2, 2), dtype=float32)\n",
            "tf.Tensor(\n",
            "[[0.0657748  0.8750659 ]\n",
            " [0.60925746 0.4647795 ]], shape=(2, 2), dtype=float32)\n",
            "tf.Tensor(\n",
            "[[0.0657748  0.8750659 ]\n",
            " [0.60925746 0.4647795 ]], shape=(2, 2), dtype=float32)\n"
          ]
        }
      ]
    },
    {
      "cell_type": "markdown",
      "source": [
        "we get different values in gen1 and gen2 becasue the state has advanced"
      ],
      "metadata": {
        "id": "SzeSgoKuLhA0"
      }
    },
    {
      "cell_type": "markdown",
      "source": [
        "gen3 and gen2 have the same values because they are created from the same state"
      ],
      "metadata": {
        "id": "FAhxiWCOL-IN"
      }
    },
    {
      "cell_type": "markdown",
      "source": [
        "\n",
        "\n",
        "---\n",
        "\n",
        "## Shuffling order of elements in a  Tensors\n",
        "useful when we want to changed the order of data so that it doesn not affect learning\n"
      ],
      "metadata": {
        "id": "52Ftr5o0vHdV"
      }
    },
    {
      "cell_type": "code",
      "source": [
        "shuffle = tf.constant([[1,2],[2,3],[3,4]])\n",
        "shuffle"
      ],
      "metadata": {
        "id": "FJdNlBSVKJaP",
        "colab": {
          "base_uri": "https://localhost:8080/"
        },
        "outputId": "c1469b54-ae47-4a3a-9ae7-5f054c2856f4"
      },
      "execution_count": 3,
      "outputs": [
        {
          "output_type": "execute_result",
          "data": {
            "text/plain": [
              "<tf.Tensor: shape=(3, 2), dtype=int32, numpy=\n",
              "array([[1, 2],\n",
              "       [2, 3],\n",
              "       [3, 4]], dtype=int32)>"
            ]
          },
          "metadata": {},
          "execution_count": 3
        }
      ]
    },
    {
      "cell_type": "code",
      "source": [
        "shuffle.ndim"
      ],
      "metadata": {
        "colab": {
          "base_uri": "https://localhost:8080/"
        },
        "id": "4BqNB48zwHre",
        "outputId": "12c4cd32-4a88-4baa-8bf3-3addf0cdd4bc"
      },
      "execution_count": 4,
      "outputs": [
        {
          "output_type": "execute_result",
          "data": {
            "text/plain": [
              "2"
            ]
          },
          "metadata": {},
          "execution_count": 4
        }
      ]
    },
    {
      "cell_type": "code",
      "source": [
        "tf.random.shuffle(shuffle)"
      ],
      "metadata": {
        "colab": {
          "base_uri": "https://localhost:8080/"
        },
        "id": "ABhxtKJ5wIvn",
        "outputId": "6eeba4c9-890a-4879-945e-3637801665ad"
      },
      "execution_count": 6,
      "outputs": [
        {
          "output_type": "execute_result",
          "data": {
            "text/plain": [
              "<tf.Tensor: shape=(3, 2), dtype=int32, numpy=\n",
              "array([[1, 2],\n",
              "       [3, 4],\n",
              "       [2, 3]], dtype=int32)>"
            ]
          },
          "metadata": {},
          "execution_count": 6
        }
      ]
    },
    {
      "cell_type": "code",
      "source": [
        "tf.random.shuffle(shuffle[0])"
      ],
      "metadata": {
        "colab": {
          "base_uri": "https://localhost:8080/"
        },
        "id": "8OvJOlq3wXFb",
        "outputId": "a1e6ebf2-ef4c-4297-9441-5605bd5a7dbb"
      },
      "execution_count": 10,
      "outputs": [
        {
          "output_type": "execute_result",
          "data": {
            "text/plain": [
              "<tf.Tensor: shape=(2,), dtype=int32, numpy=array([2, 1], dtype=int32)>"
            ]
          },
          "metadata": {},
          "execution_count": 10
        }
      ]
    },
    {
      "cell_type": "markdown",
      "source": [
        "Seed is used to ensure we get the same random shuffling\n"
      ],
      "metadata": {
        "id": "kT1j99tvxGK5"
      }
    },
    {
      "cell_type": "code",
      "source": [
        "tf.random.set_seed(42)\n",
        "tf.random.shuffle(shuffle,seed=1)"
      ],
      "metadata": {
        "colab": {
          "base_uri": "https://localhost:8080/"
        },
        "id": "YP_ai-EHxFa1",
        "outputId": "9f1a2709-8618-4f17-d9f2-55251d662aaa"
      },
      "execution_count": 32,
      "outputs": [
        {
          "output_type": "execute_result",
          "data": {
            "text/plain": [
              "<tf.Tensor: shape=(3, 2), dtype=int32, numpy=\n",
              "array([[1, 2],\n",
              "       [3, 4],\n",
              "       [2, 3]], dtype=int32)>"
            ]
          },
          "metadata": {},
          "execution_count": 32
        }
      ]
    },
    {
      "cell_type": "markdown",
      "source": [
        "We shoud set a global seed otherwise the operation level seed might produce non deteministics results."
      ],
      "metadata": {
        "id": "3QBt4J6bx62V"
      }
    },
    {
      "cell_type": "markdown",
      "source": [
        "\n",
        "\n",
        "---\n",
        "\n",
        "## Some Other ways to create Tensors"
      ],
      "metadata": {
        "id": "VywlhvSW5WH2"
      }
    },
    {
      "cell_type": "code",
      "source": [
        "tf.ones(shape=[4,5])"
      ],
      "metadata": {
        "colab": {
          "base_uri": "https://localhost:8080/"
        },
        "id": "KKeX-Cs-xNQg",
        "outputId": "5b8ab3dc-6a30-4204-8717-dcd038a088ab"
      },
      "execution_count": 33,
      "outputs": [
        {
          "output_type": "execute_result",
          "data": {
            "text/plain": [
              "<tf.Tensor: shape=(4, 5), dtype=float32, numpy=\n",
              "array([[1., 1., 1., 1., 1.],\n",
              "       [1., 1., 1., 1., 1.],\n",
              "       [1., 1., 1., 1., 1.],\n",
              "       [1., 1., 1., 1., 1.]], dtype=float32)>"
            ]
          },
          "metadata": {},
          "execution_count": 33
        }
      ]
    },
    {
      "cell_type": "code",
      "source": [
        "tf.zeros([2,4])"
      ],
      "metadata": {
        "colab": {
          "base_uri": "https://localhost:8080/"
        },
        "id": "7gLvH4455e0A",
        "outputId": "2df93f6b-bee8-4582-d060-3b80f8bd54fe"
      },
      "execution_count": 34,
      "outputs": [
        {
          "output_type": "execute_result",
          "data": {
            "text/plain": [
              "<tf.Tensor: shape=(2, 4), dtype=float32, numpy=\n",
              "array([[0., 0., 0., 0.],\n",
              "       [0., 0., 0., 0.]], dtype=float32)>"
            ]
          },
          "metadata": {},
          "execution_count": 34
        }
      ]
    },
    {
      "cell_type": "markdown",
      "source": [
        "## Turning Numpy Arrays into tensors\n",
        "The difference betweeen numpy arrays and tensors is that tensors can be run on GPU(much faster)"
      ],
      "metadata": {
        "id": "uC3jAfhC6PfT"
      }
    },
    {
      "cell_type": "code",
      "source": [
        "import numpy as np\n",
        "\n",
        "numpy_A=np.array([[1,2,3,4],[1,2,3,4]])\n",
        "\n",
        "# X=tf.constant(matrix)  Uppercase for matrix representation and tensors\n",
        "# y-tf.constant(vector) lowercase for vector representation\n",
        "numpy_A.shape\n"
      ],
      "metadata": {
        "colab": {
          "base_uri": "https://localhost:8080/"
        },
        "id": "p7i57bn35kZM",
        "outputId": "83f6ce4b-bdeb-47a5-e489-32b5b16ef5b8"
      },
      "execution_count": 39,
      "outputs": [
        {
          "output_type": "execute_result",
          "data": {
            "text/plain": [
              "(2, 4)"
            ]
          },
          "metadata": {},
          "execution_count": 39
        }
      ]
    },
    {
      "cell_type": "code",
      "source": [
        "A=tf.constant(numpy_A)\n",
        "A"
      ],
      "metadata": {
        "colab": {
          "base_uri": "https://localhost:8080/"
        },
        "id": "4xRZhL2pG_2P",
        "outputId": "2ff83d9b-074d-44b8-be54-d38dfaa4ca79"
      },
      "execution_count": 40,
      "outputs": [
        {
          "output_type": "execute_result",
          "data": {
            "text/plain": [
              "<tf.Tensor: shape=(2, 4), dtype=int64, numpy=\n",
              "array([[1, 2, 3, 4],\n",
              "       [1, 2, 3, 4]])>"
            ]
          },
          "metadata": {},
          "execution_count": 40
        }
      ]
    },
    {
      "cell_type": "markdown",
      "source": [
        "we can change the shape of the tensor ensuring that the shape of tensor has the same number of elements in the numpy array"
      ],
      "metadata": {
        "id": "eCONjJ4kL1ok"
      }
    },
    {
      "cell_type": "code",
      "source": [
        "B=tf.constant(numpy_A, shape=[4,2])\n",
        "B"
      ],
      "metadata": {
        "colab": {
          "base_uri": "https://localhost:8080/"
        },
        "id": "uNWJLMDbHm4V",
        "outputId": "70a454cc-e486-4453-f282-c4de7949b184"
      },
      "execution_count": 42,
      "outputs": [
        {
          "output_type": "execute_result",
          "data": {
            "text/plain": [
              "<tf.Tensor: shape=(4, 2), dtype=int64, numpy=\n",
              "array([[1, 2],\n",
              "       [3, 4],\n",
              "       [1, 2],\n",
              "       [3, 4]])>"
            ]
          },
          "metadata": {},
          "execution_count": 42
        }
      ]
    },
    {
      "cell_type": "markdown",
      "source": [
        "The below code creates a Tensor G using the data from  tensor T"
      ],
      "metadata": {
        "id": "RcuPMP9jMjp9"
      }
    },
    {
      "cell_type": "code",
      "source": [
        "T=tf.constant([1,2,3,4])\n",
        "G=tf.constant(T,shape=[2,2])\n",
        "G"
      ],
      "metadata": {
        "colab": {
          "base_uri": "https://localhost:8080/"
        },
        "id": "np4RQRvYLrGg",
        "outputId": "3da9865c-4d63-42d8-de53-d11387ae1dc2"
      },
      "execution_count": 43,
      "outputs": [
        {
          "output_type": "execute_result",
          "data": {
            "text/plain": [
              "<tf.Tensor: shape=(2, 2), dtype=int32, numpy=\n",
              "array([[1, 2],\n",
              "       [3, 4]], dtype=int32)>"
            ]
          },
          "metadata": {},
          "execution_count": 43
        }
      ]
    },
    {
      "cell_type": "markdown",
      "source": [
        "The below code uses the reshape function,it does not create a new tensor rather it gives a different view of the existing tensor\n",
        "\n",
        "Note:We need an existing tensor to do this"
      ],
      "metadata": {
        "id": "QcsQx-4oM8ET"
      }
    },
    {
      "cell_type": "code",
      "source": [
        "G=tf.reshape(T,[2,2])\n",
        "G"
      ],
      "metadata": {
        "colab": {
          "base_uri": "https://localhost:8080/"
        },
        "id": "0EgxSXvYMpm8",
        "outputId": "6439a0f3-b2d8-489e-9eab-e9a21b5fc0d4"
      },
      "execution_count": 45,
      "outputs": [
        {
          "output_type": "execute_result",
          "data": {
            "text/plain": [
              "<tf.Tensor: shape=(2, 2), dtype=int32, numpy=\n",
              "array([[1, 2],\n",
              "       [3, 4]], dtype=int32)>"
            ]
          },
          "metadata": {},
          "execution_count": 45
        }
      ]
    },
    {
      "cell_type": "markdown",
      "source": [
        "##Getting Information from Tensors\n",
        "Attributes:\n",
        "\n",
        "\n",
        "*   Shape\n",
        "*   Rank\n",
        "*   Axis or dimension\n",
        "*   Size\n",
        "\n"
      ],
      "metadata": {
        "id": "09EtHQPNPrh7"
      }
    },
    {
      "cell_type": "code",
      "source": [
        "#creating a rank 5 tensor\n",
        "rnk_5=tf.zeros([2,2,2,2,2])\n",
        "rnk_5.ndim"
      ],
      "metadata": {
        "colab": {
          "base_uri": "https://localhost:8080/"
        },
        "id": "kyfTAyzbMMJ4",
        "outputId": "45d07e74-7478-42b4-8353-9d94c08e675b"
      },
      "execution_count": 49,
      "outputs": [
        {
          "output_type": "execute_result",
          "data": {
            "text/plain": [
              "5"
            ]
          },
          "metadata": {},
          "execution_count": 49
        }
      ]
    },
    {
      "cell_type": "code",
      "source": [
        "rnk_5.shape"
      ],
      "metadata": {
        "colab": {
          "base_uri": "https://localhost:8080/"
        },
        "id": "bNtNa5TNRRSv",
        "outputId": "ceb67b44-7ba1-4c40-8505-4ac22b9ea932"
      },
      "execution_count": 51,
      "outputs": [
        {
          "output_type": "execute_result",
          "data": {
            "text/plain": [
              "TensorShape([2, 2, 2, 2, 2])"
            ]
          },
          "metadata": {},
          "execution_count": 51
        }
      ]
    },
    {
      "cell_type": "code",
      "source": [
        "tf.size(rnk_5)"
      ],
      "metadata": {
        "colab": {
          "base_uri": "https://localhost:8080/"
        },
        "id": "EYd_WiOlRs1i",
        "outputId": "e68ef4a8-118d-4abc-e71d-9bb6c04d5fe6"
      },
      "execution_count": 54,
      "outputs": [
        {
          "output_type": "execute_result",
          "data": {
            "text/plain": [
              "<tf.Tensor: shape=(), dtype=int32, numpy=32>"
            ]
          },
          "metadata": {},
          "execution_count": 54
        }
      ]
    },
    {
      "cell_type": "code",
      "source": [
        "print(\"Datatype of each element in the tensor\",rnk_5.dtype)\n",
        "print(\"Number of dimensions in the tensor\",rnk_5.ndim)\n",
        "print(\"Shape of the tensor:\",rnk_5.shape)\n",
        "print(\"Number of elements along 1st axis\",rnk_5.shape[0])\n",
        "print(\"Number of elements along last axis\",rnk_5[-1].shape[-1])\n",
        "print(\"Number of elements in the tensor:\",tf.size(rnk_5).numpy())"
      ],
      "metadata": {
        "colab": {
          "base_uri": "https://localhost:8080/"
        },
        "id": "4_EDWtR-Ru9V",
        "outputId": "c282dc1a-cef6-4ece-f05b-9f2f83d55ff8"
      },
      "execution_count": 61,
      "outputs": [
        {
          "output_type": "stream",
          "name": "stdout",
          "text": [
            "Datatype of each element in the tensor <dtype: 'float32'>\n",
            "Number of dimensions in the tensor 5\n",
            "Shape of the tensor: (2, 2, 2, 2, 2)\n",
            "Number of elements along 1st axis 2\n",
            "Number of elements along last axis 2\n",
            "Number of elements in the tensor: 32\n"
          ]
        }
      ]
    },
    {
      "cell_type": "code",
      "source": [],
      "metadata": {
        "id": "DWp3OXMSSbGo"
      },
      "execution_count": null,
      "outputs": []
    }
  ]
}