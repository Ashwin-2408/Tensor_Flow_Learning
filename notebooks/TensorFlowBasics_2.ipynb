{
  "nbformat": 4,
  "nbformat_minor": 0,
  "metadata": {
    "colab": {
      "provenance": [],
      "toc_visible": true,
      "gpuType": "T4",
      "authorship_tag": "ABX9TyO27EpDdl9cC2CpufjEYJE1",
      "include_colab_link": true
    },
    "kernelspec": {
      "name": "python3",
      "display_name": "Python 3"
    },
    "language_info": {
      "name": "python"
    },
    "accelerator": "GPU"
  },
  "cells": [
    {
      "cell_type": "markdown",
      "metadata": {
        "id": "view-in-github",
        "colab_type": "text"
      },
      "source": [
        "<a href=\"https://colab.research.google.com/github/Ashwin-2408/Tensor_Flow_Learning/blob/main/notebooks/TensorFlowBasics_2.ipynb\" target=\"_parent\"><img src=\"https://colab.research.google.com/assets/colab-badge.svg\" alt=\"Open In Colab\"/></a>"
      ]
    },
    {
      "cell_type": "markdown",
      "source": [
        "## Manipulating Tensors\n",
        "Basics Operations:\n",
        "\n",
        "\n",
        "*  +\n",
        "*  -\n",
        "*   *\n",
        "*  /\n",
        "\n"
      ],
      "metadata": {
        "id": "9NVhEKSV5nMk"
      }
    },
    {
      "cell_type": "code",
      "source": [
        "import tensorflow as tf\n",
        "A=tf.constant([2,2])"
      ],
      "metadata": {
        "id": "631Rv8Ys5saq"
      },
      "execution_count": 2,
      "outputs": []
    },
    {
      "cell_type": "code",
      "source": [
        "A+10"
      ],
      "metadata": {
        "colab": {
          "base_uri": "https://localhost:8080/"
        },
        "id": "FrtIQnVQ7SX2",
        "outputId": "869de5cd-c98d-43c8-8bab-7ca8fad5804d"
      },
      "execution_count": 3,
      "outputs": [
        {
          "output_type": "execute_result",
          "data": {
            "text/plain": [
              "<tf.Tensor: shape=(2,), dtype=int32, numpy=array([12, 12], dtype=int32)>"
            ]
          },
          "metadata": {},
          "execution_count": 3
        }
      ]
    },
    {
      "cell_type": "markdown",
      "source": [
        "It does not change the original tensor"
      ],
      "metadata": {
        "id": "GP2nkktA7rYz"
      }
    },
    {
      "cell_type": "code",
      "source": [
        "A\n"
      ],
      "metadata": {
        "colab": {
          "base_uri": "https://localhost:8080/"
        },
        "id": "1Jd8y4dx7g1R",
        "outputId": "8ce08e3e-413d-46cd-98c9-137ef43bd681"
      },
      "execution_count": 4,
      "outputs": [
        {
          "output_type": "execute_result",
          "data": {
            "text/plain": [
              "<tf.Tensor: shape=(2,), dtype=int32, numpy=array([2, 2], dtype=int32)>"
            ]
          },
          "metadata": {},
          "execution_count": 4
        }
      ]
    },
    {
      "cell_type": "markdown",
      "source": [
        "Use Tensorflow builtin functions to speed up operations while training"
      ],
      "metadata": {
        "id": "Kan4TzCw72eB"
      }
    },
    {
      "cell_type": "code",
      "source": [
        "tf.multiply(A,4)"
      ],
      "metadata": {
        "colab": {
          "base_uri": "https://localhost:8080/"
        },
        "id": "t-8fefqH7lpy",
        "outputId": "1d6c8022-86de-4cb5-a905-2870820fbb5d"
      },
      "execution_count": 5,
      "outputs": [
        {
          "output_type": "execute_result",
          "data": {
            "text/plain": [
              "<tf.Tensor: shape=(2,), dtype=int32, numpy=array([8, 8], dtype=int32)>"
            ]
          },
          "metadata": {},
          "execution_count": 5
        }
      ]
    },
    {
      "cell_type": "markdown",
      "source": [
        "##Matrix Multiplication\n",
        "Matrix multiplication is the most common operation in Machine Learning"
      ],
      "metadata": {
        "id": "lD7M5xu1-tzK"
      }
    },
    {
      "cell_type": "code",
      "source": [
        "A=tf.constant([[1,3]], shape=[1,2])\n",
        "B=tf.constant([[2,4]],shape=[2,1])\n",
        "A,B"
      ],
      "metadata": {
        "colab": {
          "base_uri": "https://localhost:8080/"
        },
        "id": "jbfwH_vc7uyg",
        "outputId": "5f2fa462-7923-44cf-aebc-f803c718aa68"
      },
      "execution_count": 6,
      "outputs": [
        {
          "output_type": "execute_result",
          "data": {
            "text/plain": [
              "(<tf.Tensor: shape=(1, 2), dtype=int32, numpy=array([[1, 3]], dtype=int32)>,\n",
              " <tf.Tensor: shape=(2, 1), dtype=int32, numpy=\n",
              " array([[2],\n",
              "        [4]], dtype=int32)>)"
            ]
          },
          "metadata": {},
          "execution_count": 6
        }
      ]
    },
    {
      "cell_type": "markdown",
      "source": [
        "The number of columns in the first tensor should be equal to the number of rows in the second tensor"
      ],
      "metadata": {
        "id": "QENRJk6fAnBH"
      }
    },
    {
      "cell_type": "code",
      "source": [
        "tf.linalg.matmul(A,B)"
      ],
      "metadata": {
        "colab": {
          "base_uri": "https://localhost:8080/"
        },
        "id": "fs-uFJw5_4MO",
        "outputId": "43decd45-881c-485b-e18a-4c0f059f95de"
      },
      "execution_count": 7,
      "outputs": [
        {
          "output_type": "execute_result",
          "data": {
            "text/plain": [
              "<tf.Tensor: shape=(1, 1), dtype=int32, numpy=array([[14]], dtype=int32)>"
            ]
          },
          "metadata": {},
          "execution_count": 7
        }
      ]
    },
    {
      "cell_type": "code",
      "source": [
        "C=tf.constant([[1,2,3],[3,4,5],[5,6,5]])\n",
        "C"
      ],
      "metadata": {
        "colab": {
          "base_uri": "https://localhost:8080/"
        },
        "id": "qj8r1zY2AK46",
        "outputId": "7f5da8ff-06f2-4af4-c9ae-1213fe3e86cc"
      },
      "execution_count": 8,
      "outputs": [
        {
          "output_type": "execute_result",
          "data": {
            "text/plain": [
              "<tf.Tensor: shape=(3, 3), dtype=int32, numpy=\n",
              "array([[1, 2, 3],\n",
              "       [3, 4, 5],\n",
              "       [5, 6, 5]], dtype=int32)>"
            ]
          },
          "metadata": {},
          "execution_count": 8
        }
      ]
    },
    {
      "cell_type": "markdown",
      "source": [
        "Element wise Multiplication"
      ],
      "metadata": {
        "id": "8xiDJcdKBOUs"
      }
    },
    {
      "cell_type": "code",
      "source": [
        "C*C"
      ],
      "metadata": {
        "colab": {
          "base_uri": "https://localhost:8080/"
        },
        "id": "R-MxVdb0BHwt",
        "outputId": "dbe80137-1005-4cde-fb03-533703b1d21e"
      },
      "execution_count": 9,
      "outputs": [
        {
          "output_type": "execute_result",
          "data": {
            "text/plain": [
              "<tf.Tensor: shape=(3, 3), dtype=int32, numpy=\n",
              "array([[ 1,  4,  9],\n",
              "       [ 9, 16, 25],\n",
              "       [25, 36, 25]], dtype=int32)>"
            ]
          },
          "metadata": {},
          "execution_count": 9
        }
      ]
    },
    {
      "cell_type": "markdown",
      "source": [
        "The '@' operator in python if for matrix multiplication"
      ],
      "metadata": {
        "id": "IImqgZGKBZCv"
      }
    },
    {
      "cell_type": "code",
      "source": [
        "C@C"
      ],
      "metadata": {
        "colab": {
          "base_uri": "https://localhost:8080/"
        },
        "id": "TNOg0_TVBJk1",
        "outputId": "516a0e5a-ded1-40a5-9b92-87ddbe5ee1c6"
      },
      "execution_count": 10,
      "outputs": [
        {
          "output_type": "execute_result",
          "data": {
            "text/plain": [
              "<tf.Tensor: shape=(3, 3), dtype=int32, numpy=\n",
              "array([[22, 28, 28],\n",
              "       [40, 52, 54],\n",
              "       [48, 64, 70]], dtype=int32)>"
            ]
          },
          "metadata": {},
          "execution_count": 10
        }
      ]
    },
    {
      "cell_type": "code",
      "source": [
        "X=tf.random.uniform([2,3])\n",
        "X"
      ],
      "metadata": {
        "id": "MAjQI5K1BQ5j",
        "colab": {
          "base_uri": "https://localhost:8080/"
        },
        "outputId": "7655dba3-3382-401e-ceaf-d8b09a4aa209"
      },
      "execution_count": 11,
      "outputs": [
        {
          "output_type": "execute_result",
          "data": {
            "text/plain": [
              "<tf.Tensor: shape=(2, 3), dtype=float32, numpy=\n",
              "array([[0.13778579, 0.29245162, 0.91041803],\n",
              "       [0.25246203, 0.01176178, 0.641611  ]], dtype=float32)>"
            ]
          },
          "metadata": {},
          "execution_count": 11
        }
      ]
    },
    {
      "cell_type": "code",
      "source": [
        "tf.transpose(X),tf.reshape(X,[3,2])"
      ],
      "metadata": {
        "colab": {
          "base_uri": "https://localhost:8080/"
        },
        "id": "yTzT7GRtMqXJ",
        "outputId": "329ec45b-f427-4543-d482-295a0c751103"
      },
      "execution_count": 12,
      "outputs": [
        {
          "output_type": "execute_result",
          "data": {
            "text/plain": [
              "(<tf.Tensor: shape=(3, 2), dtype=float32, numpy=\n",
              " array([[0.13778579, 0.25246203],\n",
              "        [0.29245162, 0.01176178],\n",
              "        [0.91041803, 0.641611  ]], dtype=float32)>,\n",
              " <tf.Tensor: shape=(3, 2), dtype=float32, numpy=\n",
              " array([[0.13778579, 0.29245162],\n",
              "        [0.91041803, 0.25246203],\n",
              "        [0.01176178, 0.641611  ]], dtype=float32)>)"
            ]
          },
          "metadata": {},
          "execution_count": 12
        }
      ]
    },
    {
      "cell_type": "markdown",
      "source": [
        "#Dot Product\n",
        "Dot Product is also referred to as Matrix Multiplication\n",
        "\n",
        "1.   tf.matmul()\n",
        "2.   tf.tensordot()\n",
        "3. @\n"
      ],
      "metadata": {
        "id": "yr8-5001OEjO"
      }
    },
    {
      "cell_type": "markdown",
      "source": [
        "Generally while performing matrix muliplication and if the one of the axes doesn't line up .We will perform tranpose on the tensor rather than reshaping"
      ],
      "metadata": {
        "id": "XWi6DK60R_rm"
      }
    },
    {
      "cell_type": "code",
      "source": [
        "X=tf.constant([[2,3],[4,5],[6,7]])\n",
        "X"
      ],
      "metadata": {
        "colab": {
          "base_uri": "https://localhost:8080/"
        },
        "id": "fA7YEkp9NR4h",
        "outputId": "0277a6ab-fdfc-4a9a-d188-a6e5ab0c99ef"
      },
      "execution_count": 13,
      "outputs": [
        {
          "output_type": "execute_result",
          "data": {
            "text/plain": [
              "<tf.Tensor: shape=(3, 2), dtype=int32, numpy=\n",
              "array([[2, 3],\n",
              "       [4, 5],\n",
              "       [6, 7]], dtype=int32)>"
            ]
          },
          "metadata": {},
          "execution_count": 13
        }
      ]
    },
    {
      "cell_type": "code",
      "source": [
        "Y=tf.constant([[1,2,3],[4,5,6]])\n",
        "Y\n"
      ],
      "metadata": {
        "colab": {
          "base_uri": "https://localhost:8080/"
        },
        "id": "B7nIGwGsSi2Z",
        "outputId": "505ab22d-470e-4efa-8552-91906aad4399"
      },
      "execution_count": 14,
      "outputs": [
        {
          "output_type": "execute_result",
          "data": {
            "text/plain": [
              "<tf.Tensor: shape=(2, 3), dtype=int32, numpy=\n",
              "array([[1, 2, 3],\n",
              "       [4, 5, 6]], dtype=int32)>"
            ]
          },
          "metadata": {},
          "execution_count": 14
        }
      ]
    },
    {
      "cell_type": "code",
      "source": [
        "tf.tensordot(X,Y,axes=1)"
      ],
      "metadata": {
        "colab": {
          "base_uri": "https://localhost:8080/"
        },
        "id": "zjNYhh8WSsxV",
        "outputId": "dcd795c7-7929-4de8-a866-def44855a78e"
      },
      "execution_count": 15,
      "outputs": [
        {
          "output_type": "execute_result",
          "data": {
            "text/plain": [
              "<tf.Tensor: shape=(3, 3), dtype=int32, numpy=\n",
              "array([[14, 19, 24],\n",
              "       [24, 33, 42],\n",
              "       [34, 47, 60]], dtype=int32)>"
            ]
          },
          "metadata": {},
          "execution_count": 15
        }
      ]
    },
    {
      "cell_type": "markdown",
      "source": [
        "##Changing the Datatype of a Tensor\n",
        "Use the tf.cast()\n",
        "tf.cast() return a new tensor and the original tensor remains unchanged.\n"
      ],
      "metadata": {
        "id": "wIRRT-Fneg36"
      }
    },
    {
      "cell_type": "code",
      "source": [
        "a=tf.constant([1,2,3])\n",
        "a.dtype"
      ],
      "metadata": {
        "colab": {
          "base_uri": "https://localhost:8080/"
        },
        "id": "vz18MS9ASyOY",
        "outputId": "049d58f7-8844-4856-fd36-773f0549f36b"
      },
      "execution_count": 16,
      "outputs": [
        {
          "output_type": "execute_result",
          "data": {
            "text/plain": [
              "tf.int32"
            ]
          },
          "metadata": {},
          "execution_count": 16
        }
      ]
    },
    {
      "cell_type": "code",
      "source": [
        "b=tf.constant([1.5,3.4])\n",
        "b.dtype"
      ],
      "metadata": {
        "colab": {
          "base_uri": "https://localhost:8080/"
        },
        "id": "Nlsm8L_ajqyL",
        "outputId": "87f51cdd-a8f8-44c3-f131-3815006b97cf"
      },
      "execution_count": 17,
      "outputs": [
        {
          "output_type": "execute_result",
          "data": {
            "text/plain": [
              "tf.float32"
            ]
          },
          "metadata": {},
          "execution_count": 17
        }
      ]
    },
    {
      "cell_type": "code",
      "source": [
        "c=tf.constant([[1,1.7]])\n",
        "c.dtype"
      ],
      "metadata": {
        "colab": {
          "base_uri": "https://localhost:8080/"
        },
        "id": "2qKDUukXjvKy",
        "outputId": "8533dc2a-43c6-45e8-b8d5-b55054702ac3"
      },
      "execution_count": 18,
      "outputs": [
        {
          "output_type": "execute_result",
          "data": {
            "text/plain": [
              "tf.float32"
            ]
          },
          "metadata": {},
          "execution_count": 18
        }
      ]
    },
    {
      "cell_type": "code",
      "source": [
        "tf.cast(c,dtype=tf.int32)\n"
      ],
      "metadata": {
        "colab": {
          "base_uri": "https://localhost:8080/"
        },
        "id": "_X59I8MEjzhH",
        "outputId": "41d9a400-da67-4031-c377-d1c5c6e21f12"
      },
      "execution_count": 19,
      "outputs": [
        {
          "output_type": "execute_result",
          "data": {
            "text/plain": [
              "<tf.Tensor: shape=(1, 2), dtype=int32, numpy=array([[1, 1]], dtype=int32)>"
            ]
          },
          "metadata": {},
          "execution_count": 19
        }
      ]
    },
    {
      "cell_type": "code",
      "source": [
        "tf.cast(b,dtype=tf.float16)\n"
      ],
      "metadata": {
        "colab": {
          "base_uri": "https://localhost:8080/"
        },
        "id": "YED6hcXelVJu",
        "outputId": "a3e7c7a3-3bae-4082-893e-731ace035ed3"
      },
      "execution_count": 20,
      "outputs": [
        {
          "output_type": "execute_result",
          "data": {
            "text/plain": [
              "<tf.Tensor: shape=(2,), dtype=float16, numpy=array([1.5, 3.4], dtype=float16)>"
            ]
          },
          "metadata": {},
          "execution_count": 20
        }
      ]
    },
    {
      "cell_type": "markdown",
      "source": [
        "##Aggregation\n",
        "Aggregating tensors = condensing them from multiple values to smaller amount of values"
      ],
      "metadata": {
        "id": "BIfSqhtonmMA"
      }
    },
    {
      "cell_type": "code",
      "source": [
        "\n",
        "x=tf.constant([-1,-2])\n",
        "x\n"
      ],
      "metadata": {
        "colab": {
          "base_uri": "https://localhost:8080/"
        },
        "id": "qgbC5Keoldox",
        "outputId": "9f34422d-f0a0-4754-e7e9-5cc2653107a8"
      },
      "execution_count": 21,
      "outputs": [
        {
          "output_type": "execute_result",
          "data": {
            "text/plain": [
              "<tf.Tensor: shape=(2,), dtype=int32, numpy=array([-1, -2], dtype=int32)>"
            ]
          },
          "metadata": {},
          "execution_count": 21
        }
      ]
    },
    {
      "cell_type": "code",
      "source": [
        "tf.abs(x)\n"
      ],
      "metadata": {
        "colab": {
          "base_uri": "https://localhost:8080/"
        },
        "id": "BpQi69u8nk-3",
        "outputId": "f0ae5b82-e51b-42d9-db6b-3373d78ca276"
      },
      "execution_count": 22,
      "outputs": [
        {
          "output_type": "execute_result",
          "data": {
            "text/plain": [
              "<tf.Tensor: shape=(2,), dtype=int32, numpy=array([1, 2], dtype=int32)>"
            ]
          },
          "metadata": {},
          "execution_count": 22
        }
      ]
    },
    {
      "cell_type": "markdown",
      "source": [
        "Some common aggregation forms:\n",
        "\n",
        "\n",
        "*   min\n",
        "*   max\n",
        "*   sum\n",
        "*   mean\n",
        "\n"
      ],
      "metadata": {
        "id": "0sPwE1sU1krH"
      }
    },
    {
      "cell_type": "code",
      "source": [
        "tf.reduce_sum(x,axis=0)"
      ],
      "metadata": {
        "colab": {
          "base_uri": "https://localhost:8080/"
        },
        "id": "yNMwBKyD1h0V",
        "outputId": "14189814-539b-4dab-a897-6b9d5bf13c5f"
      },
      "execution_count": 23,
      "outputs": [
        {
          "output_type": "execute_result",
          "data": {
            "text/plain": [
              "<tf.Tensor: shape=(), dtype=int32, numpy=-3>"
            ]
          },
          "metadata": {},
          "execution_count": 23
        }
      ]
    },
    {
      "cell_type": "code",
      "source": [
        "rnk_2=tf.constant([[1,2,3],[4,5,6],[7,8,9]])\n",
        "rnk_2.shape"
      ],
      "metadata": {
        "colab": {
          "base_uri": "https://localhost:8080/"
        },
        "id": "K5LvAMGK2aFR",
        "outputId": "9385bdb4-8d14-4bac-ccf1-626229db2622"
      },
      "execution_count": 24,
      "outputs": [
        {
          "output_type": "execute_result",
          "data": {
            "text/plain": [
              "TensorShape([3, 3])"
            ]
          },
          "metadata": {},
          "execution_count": 24
        }
      ]
    },
    {
      "cell_type": "markdown",
      "source": [
        "axis=0 calculates sum vertically and axis =1 calculates sum horizontally"
      ],
      "metadata": {
        "id": "JGE3Fhir224p"
      }
    },
    {
      "cell_type": "code",
      "source": [
        "tf.reduce_sum(rnk_2,axis=0)"
      ],
      "metadata": {
        "colab": {
          "base_uri": "https://localhost:8080/"
        },
        "id": "OvbBi7gc2sTc",
        "outputId": "160d69b6-f7ba-4e9f-9324-89f4a81be0b8"
      },
      "execution_count": 25,
      "outputs": [
        {
          "output_type": "execute_result",
          "data": {
            "text/plain": [
              "<tf.Tensor: shape=(3,), dtype=int32, numpy=array([12, 15, 18], dtype=int32)>"
            ]
          },
          "metadata": {},
          "execution_count": 25
        }
      ]
    },
    {
      "cell_type": "code",
      "source": [
        "tf.reduce_sum(rnk_2,axis=1)"
      ],
      "metadata": {
        "colab": {
          "base_uri": "https://localhost:8080/"
        },
        "id": "qWg2f5wz2zlj",
        "outputId": "186ec4c1-bff1-43a6-ddf0-c0d75da0109f"
      },
      "execution_count": 26,
      "outputs": [
        {
          "output_type": "execute_result",
          "data": {
            "text/plain": [
              "<tf.Tensor: shape=(3,), dtype=int32, numpy=array([ 6, 15, 24], dtype=int32)>"
            ]
          },
          "metadata": {},
          "execution_count": 26
        }
      ]
    },
    {
      "cell_type": "markdown",
      "source": [
        "If axis is not mentioned all the axis are reduced"
      ],
      "metadata": {
        "id": "NCEWXn2U3u37"
      }
    },
    {
      "cell_type": "code",
      "source": [
        "tf.reduce_max(rnk_2)"
      ],
      "metadata": {
        "colab": {
          "base_uri": "https://localhost:8080/"
        },
        "id": "wFAbptHn3BGY",
        "outputId": "c10a80e7-3064-4a95-fd30-c761e6bdba08"
      },
      "execution_count": 27,
      "outputs": [
        {
          "output_type": "execute_result",
          "data": {
            "text/plain": [
              "<tf.Tensor: shape=(), dtype=int32, numpy=9>"
            ]
          },
          "metadata": {},
          "execution_count": 27
        }
      ]
    },
    {
      "cell_type": "code",
      "source": [
        "tf.reduce_max(rnk_2,axis=1)"
      ],
      "metadata": {
        "colab": {
          "base_uri": "https://localhost:8080/"
        },
        "id": "AWJdQHu-3jOX",
        "outputId": "edf467ad-21dd-4d04-d06f-bfb8964d6533"
      },
      "execution_count": 28,
      "outputs": [
        {
          "output_type": "execute_result",
          "data": {
            "text/plain": [
              "<tf.Tensor: shape=(3,), dtype=int32, numpy=array([3, 6, 9], dtype=int32)>"
            ]
          },
          "metadata": {},
          "execution_count": 28
        }
      ]
    },
    {
      "cell_type": "code",
      "source": [
        "tf.reduce_mean(rnk_2)"
      ],
      "metadata": {
        "colab": {
          "base_uri": "https://localhost:8080/"
        },
        "id": "SjgI9gl83q2m",
        "outputId": "c7fab3a5-8e9c-4073-90f5-26be37dc9903"
      },
      "execution_count": 29,
      "outputs": [
        {
          "output_type": "execute_result",
          "data": {
            "text/plain": [
              "<tf.Tensor: shape=(), dtype=int32, numpy=5>"
            ]
          },
          "metadata": {},
          "execution_count": 29
        }
      ]
    },
    {
      "cell_type": "markdown",
      "source": [
        "##Variance and Std\n",
        "variance and std need the math library or the tensorflow probability library\n",
        "\n",
        "\n",
        "*   math.reduce_variance / math.reduce_std\n",
        "*   tfp.stats.variance() /tfp.stats.stddev()\n",
        "\n",
        "\n",
        "Note:math.reduce throws a error if data is in int,where as tfp does not,\n",
        "for better practice convert to float before applying any operation.\n",
        "\n"
      ],
      "metadata": {
        "id": "iwA2EPgJ5iBh"
      }
    },
    {
      "cell_type": "code",
      "source": [],
      "metadata": {
        "id": "TnK_ey9k5hsz"
      },
      "execution_count": 29,
      "outputs": []
    },
    {
      "cell_type": "code",
      "source": [
        "tf.math.reduce_variance(tf.cast(rnk_2,dtype=tf.float32))"
      ],
      "metadata": {
        "colab": {
          "base_uri": "https://localhost:8080/"
        },
        "id": "v34YT5wT34Rj",
        "outputId": "707f2540-f554-4d31-fe8c-9325ea4a9d93"
      },
      "execution_count": 30,
      "outputs": [
        {
          "output_type": "execute_result",
          "data": {
            "text/plain": [
              "<tf.Tensor: shape=(), dtype=float32, numpy=6.666666507720947>"
            ]
          },
          "metadata": {},
          "execution_count": 30
        }
      ]
    },
    {
      "cell_type": "code",
      "source": [
        "tf.math.reduce_std(tf.cast(rnk_2,dtype=tf.float32))"
      ],
      "metadata": {
        "id": "3j7R9lls4BTS",
        "colab": {
          "base_uri": "https://localhost:8080/"
        },
        "outputId": "e66ed545-d49c-4056-87e4-f8a15658c83a"
      },
      "execution_count": 31,
      "outputs": [
        {
          "output_type": "execute_result",
          "data": {
            "text/plain": [
              "<tf.Tensor: shape=(), dtype=float32, numpy=2.58198881149292>"
            ]
          },
          "metadata": {},
          "execution_count": 31
        }
      ]
    },
    {
      "cell_type": "markdown",
      "source": [
        "By default tfp chooses axis as 1"
      ],
      "metadata": {
        "id": "yw-6xjvd79MH"
      }
    },
    {
      "cell_type": "code",
      "source": [
        "import tensorflow_probability as tfp\n",
        "tfp.stats.variance(tf.cast(rnk_2,dtype=tf.float32))"
      ],
      "metadata": {
        "colab": {
          "base_uri": "https://localhost:8080/"
        },
        "id": "1ahl2yPL5BfC",
        "outputId": "d6291802-83ba-4b7b-d57b-427bd1de7aa0"
      },
      "execution_count": 32,
      "outputs": [
        {
          "output_type": "execute_result",
          "data": {
            "text/plain": [
              "<tf.Tensor: shape=(3,), dtype=float32, numpy=array([6., 6., 6.], dtype=float32)>"
            ]
          },
          "metadata": {},
          "execution_count": 32
        }
      ]
    },
    {
      "cell_type": "code",
      "source": [
        "tfp.stats.variance(tf.cast(rnk_2,dtype=tf.float32),sample_axis=None)\n"
      ],
      "metadata": {
        "colab": {
          "base_uri": "https://localhost:8080/"
        },
        "id": "Rx3r6NZ064do",
        "outputId": "f98686ef-6fa1-4743-bd0e-6ebdad783c2b"
      },
      "execution_count": 33,
      "outputs": [
        {
          "output_type": "execute_result",
          "data": {
            "text/plain": [
              "<tf.Tensor: shape=(), dtype=float32, numpy=6.666666507720947>"
            ]
          },
          "metadata": {},
          "execution_count": 33
        }
      ]
    },
    {
      "cell_type": "code",
      "source": [
        "tfp.stats.stddev(tf.cast(rnk_2,dtype=tf.float32))"
      ],
      "metadata": {
        "colab": {
          "base_uri": "https://localhost:8080/"
        },
        "id": "oPXEQSl18Fkc",
        "outputId": "24d85257-7ea7-4214-e12d-6e0d0f3db70f"
      },
      "execution_count": 34,
      "outputs": [
        {
          "output_type": "execute_result",
          "data": {
            "text/plain": [
              "<tf.Tensor: shape=(3,), dtype=float32, numpy=array([2.4494896, 2.4494896, 2.4494896], dtype=float32)>"
            ]
          },
          "metadata": {},
          "execution_count": 34
        }
      ]
    },
    {
      "cell_type": "markdown",
      "source": [
        "##Finding Postional Minimum and Maximum"
      ],
      "metadata": {
        "id": "VpkRhQB2Dr3F"
      }
    },
    {
      "cell_type": "code",
      "source": [
        "tf.random.set_seed(42)\n",
        "X=tf.random.uniform([50])\n",
        "X"
      ],
      "metadata": {
        "colab": {
          "base_uri": "https://localhost:8080/"
        },
        "id": "TUwc78Ds8miH",
        "outputId": "422ef8c2-0b7c-4ec1-ca88-75c63df39bbf"
      },
      "execution_count": 35,
      "outputs": [
        {
          "output_type": "execute_result",
          "data": {
            "text/plain": [
              "<tf.Tensor: shape=(50,), dtype=float32, numpy=\n",
              "array([0.6645621 , 0.44100678, 0.3528825 , 0.46448255, 0.03366041,\n",
              "       0.68467236, 0.74011743, 0.8724445 , 0.22632635, 0.22319686,\n",
              "       0.3103881 , 0.7223358 , 0.13318717, 0.5480639 , 0.5746088 ,\n",
              "       0.8996835 , 0.00946367, 0.5212307 , 0.6345445 , 0.1993283 ,\n",
              "       0.72942245, 0.54583454, 0.10756552, 0.6767061 , 0.6602763 ,\n",
              "       0.33695042, 0.60141766, 0.21062577, 0.8527372 , 0.44062173,\n",
              "       0.9485276 , 0.23752594, 0.81179297, 0.5263394 , 0.494308  ,\n",
              "       0.21612847, 0.8457197 , 0.8718841 , 0.3083862 , 0.6868038 ,\n",
              "       0.23764038, 0.7817228 , 0.9671384 , 0.06870162, 0.79873943,\n",
              "       0.66028714, 0.5871513 , 0.16461694, 0.7381023 , 0.32054043],\n",
              "      dtype=float32)>"
            ]
          },
          "metadata": {},
          "execution_count": 35
        }
      ]
    },
    {
      "cell_type": "code",
      "source": [
        "tf.argmax(X)"
      ],
      "metadata": {
        "colab": {
          "base_uri": "https://localhost:8080/"
        },
        "id": "R2SQ9DouIxeW",
        "outputId": "ab5e554f-18b5-4070-abaa-4883283d97bf"
      },
      "execution_count": 36,
      "outputs": [
        {
          "output_type": "execute_result",
          "data": {
            "text/plain": [
              "<tf.Tensor: shape=(), dtype=int64, numpy=42>"
            ]
          },
          "metadata": {},
          "execution_count": 36
        }
      ]
    },
    {
      "cell_type": "code",
      "source": [
        "tf.argmin(X)"
      ],
      "metadata": {
        "colab": {
          "base_uri": "https://localhost:8080/"
        },
        "id": "j1-_szWII0Se",
        "outputId": "4a43a4df-6b3c-4b03-980e-3d2fe33f0b80"
      },
      "execution_count": 37,
      "outputs": [
        {
          "output_type": "execute_result",
          "data": {
            "text/plain": [
              "<tf.Tensor: shape=(), dtype=int64, numpy=16>"
            ]
          },
          "metadata": {},
          "execution_count": 37
        }
      ]
    },
    {
      "cell_type": "markdown",
      "source": [
        "##Squeezing a tensor(removing all single dimensions)"
      ],
      "metadata": {
        "id": "fuDasHGoKT7L"
      }
    },
    {
      "cell_type": "code",
      "source": [
        "tf.random.set_seed(42)\n",
        "squeeze =tf.random.uniform(shape=[1,1,100,1,1])\n",
        "squeeze"
      ],
      "metadata": {
        "colab": {
          "base_uri": "https://localhost:8080/"
        },
        "id": "ABNh2A3CI2tm",
        "outputId": "d3e4ec11-72b4-4d8b-fb50-df6b5cd6b4c2"
      },
      "execution_count": 38,
      "outputs": [
        {
          "output_type": "execute_result",
          "data": {
            "text/plain": [
              "<tf.Tensor: shape=(1, 1, 100, 1, 1), dtype=float32, numpy=\n",
              "array([[[[[0.6645621 ]],\n",
              "\n",
              "         [[0.44100678]],\n",
              "\n",
              "         [[0.3528825 ]],\n",
              "\n",
              "         [[0.46448255]],\n",
              "\n",
              "         [[0.03366041]],\n",
              "\n",
              "         [[0.68467236]],\n",
              "\n",
              "         [[0.74011743]],\n",
              "\n",
              "         [[0.8724445 ]],\n",
              "\n",
              "         [[0.22632635]],\n",
              "\n",
              "         [[0.22319686]],\n",
              "\n",
              "         [[0.3103881 ]],\n",
              "\n",
              "         [[0.7223358 ]],\n",
              "\n",
              "         [[0.13318717]],\n",
              "\n",
              "         [[0.5480639 ]],\n",
              "\n",
              "         [[0.5746088 ]],\n",
              "\n",
              "         [[0.8996835 ]],\n",
              "\n",
              "         [[0.00946367]],\n",
              "\n",
              "         [[0.5212307 ]],\n",
              "\n",
              "         [[0.6345445 ]],\n",
              "\n",
              "         [[0.1993283 ]],\n",
              "\n",
              "         [[0.72942245]],\n",
              "\n",
              "         [[0.54583454]],\n",
              "\n",
              "         [[0.10756552]],\n",
              "\n",
              "         [[0.6767061 ]],\n",
              "\n",
              "         [[0.6602763 ]],\n",
              "\n",
              "         [[0.33695042]],\n",
              "\n",
              "         [[0.60141766]],\n",
              "\n",
              "         [[0.21062577]],\n",
              "\n",
              "         [[0.8527372 ]],\n",
              "\n",
              "         [[0.44062173]],\n",
              "\n",
              "         [[0.9485276 ]],\n",
              "\n",
              "         [[0.23752594]],\n",
              "\n",
              "         [[0.81179297]],\n",
              "\n",
              "         [[0.5263394 ]],\n",
              "\n",
              "         [[0.494308  ]],\n",
              "\n",
              "         [[0.21612847]],\n",
              "\n",
              "         [[0.8457197 ]],\n",
              "\n",
              "         [[0.8718841 ]],\n",
              "\n",
              "         [[0.3083862 ]],\n",
              "\n",
              "         [[0.6868038 ]],\n",
              "\n",
              "         [[0.23764038]],\n",
              "\n",
              "         [[0.7817228 ]],\n",
              "\n",
              "         [[0.9671384 ]],\n",
              "\n",
              "         [[0.06870162]],\n",
              "\n",
              "         [[0.79873943]],\n",
              "\n",
              "         [[0.66028714]],\n",
              "\n",
              "         [[0.5871513 ]],\n",
              "\n",
              "         [[0.16461694]],\n",
              "\n",
              "         [[0.7381023 ]],\n",
              "\n",
              "         [[0.32054043]],\n",
              "\n",
              "         [[0.6073899 ]],\n",
              "\n",
              "         [[0.46523476]],\n",
              "\n",
              "         [[0.97803545]],\n",
              "\n",
              "         [[0.7223145 ]],\n",
              "\n",
              "         [[0.32347047]],\n",
              "\n",
              "         [[0.82577336]],\n",
              "\n",
              "         [[0.4976915 ]],\n",
              "\n",
              "         [[0.19483674]],\n",
              "\n",
              "         [[0.7588748 ]],\n",
              "\n",
              "         [[0.3380444 ]],\n",
              "\n",
              "         [[0.28128064]],\n",
              "\n",
              "         [[0.31513572]],\n",
              "\n",
              "         [[0.60670924]],\n",
              "\n",
              "         [[0.7498598 ]],\n",
              "\n",
              "         [[0.5016055 ]],\n",
              "\n",
              "         [[0.18282163]],\n",
              "\n",
              "         [[0.13179815]],\n",
              "\n",
              "         [[0.64636123]],\n",
              "\n",
              "         [[0.9559475 ]],\n",
              "\n",
              "         [[0.6670735 ]],\n",
              "\n",
              "         [[0.30755532]],\n",
              "\n",
              "         [[0.36892188]],\n",
              "\n",
              "         [[0.44735897]],\n",
              "\n",
              "         [[0.18359458]],\n",
              "\n",
              "         [[0.5288255 ]],\n",
              "\n",
              "         [[0.7052754 ]],\n",
              "\n",
              "         [[0.898633  ]],\n",
              "\n",
              "         [[0.31386292]],\n",
              "\n",
              "         [[0.62338257]],\n",
              "\n",
              "         [[0.96815526]],\n",
              "\n",
              "         [[0.11207926]],\n",
              "\n",
              "         [[0.29590535]],\n",
              "\n",
              "         [[0.9356605 ]],\n",
              "\n",
              "         [[0.1341263 ]],\n",
              "\n",
              "         [[0.31937933]],\n",
              "\n",
              "         [[0.262277  ]],\n",
              "\n",
              "         [[0.03148758]],\n",
              "\n",
              "         [[0.90045524]],\n",
              "\n",
              "         [[0.6409379 ]],\n",
              "\n",
              "         [[0.5821855 ]],\n",
              "\n",
              "         [[0.20917094]],\n",
              "\n",
              "         [[0.71736085]],\n",
              "\n",
              "         [[0.363523  ]],\n",
              "\n",
              "         [[0.04670918]],\n",
              "\n",
              "         [[0.14977789]],\n",
              "\n",
              "         [[0.84361756]],\n",
              "\n",
              "         [[0.9355587 ]],\n",
              "\n",
              "         [[0.09517312]],\n",
              "\n",
              "         [[0.08617878]],\n",
              "\n",
              "         [[0.6247839 ]]]]], dtype=float32)>"
            ]
          },
          "metadata": {},
          "execution_count": 38
        }
      ]
    },
    {
      "cell_type": "code",
      "source": [
        "tf.squeeze(squeeze).shape"
      ],
      "metadata": {
        "colab": {
          "base_uri": "https://localhost:8080/"
        },
        "id": "aXZRXmY9KgHl",
        "outputId": "03a869e5-7301-42fe-fe7d-5449811af7f3"
      },
      "execution_count": 39,
      "outputs": [
        {
          "output_type": "execute_result",
          "data": {
            "text/plain": [
              "TensorShape([100])"
            ]
          },
          "metadata": {},
          "execution_count": 39
        }
      ]
    },
    {
      "cell_type": "markdown",
      "source": [
        "##One hot Encoding Tensors"
      ],
      "metadata": {
        "id": "2cRkcGJlMhSZ"
      }
    },
    {
      "cell_type": "code",
      "source": [
        "list=[1,2,3]\n",
        "tf.one_hot(list,depth=3)"
      ],
      "metadata": {
        "colab": {
          "base_uri": "https://localhost:8080/"
        },
        "id": "68iJYSSfLEUb",
        "outputId": "2c35d178-3672-4fe4-e8a0-4965faf565e8"
      },
      "execution_count": 40,
      "outputs": [
        {
          "output_type": "execute_result",
          "data": {
            "text/plain": [
              "<tf.Tensor: shape=(3, 3), dtype=float32, numpy=\n",
              "array([[0., 1., 0.],\n",
              "       [0., 0., 1.],\n",
              "       [0., 0., 0.]], dtype=float32)>"
            ]
          },
          "metadata": {},
          "execution_count": 40
        }
      ]
    },
    {
      "cell_type": "code",
      "source": [
        "tf.one_hot(list,depth=3,on_value=\"yo\",off_value=\"no\")"
      ],
      "metadata": {
        "colab": {
          "base_uri": "https://localhost:8080/"
        },
        "id": "MmwJTRt0NoDr",
        "outputId": "526d9545-7129-45fd-c9b9-fd2a5828c66e"
      },
      "execution_count": 41,
      "outputs": [
        {
          "output_type": "execute_result",
          "data": {
            "text/plain": [
              "<tf.Tensor: shape=(3, 3), dtype=string, numpy=\n",
              "array([[b'no', b'yo', b'no'],\n",
              "       [b'no', b'no', b'yo'],\n",
              "       [b'no', b'no', b'no']], dtype=object)>"
            ]
          },
          "metadata": {},
          "execution_count": 41
        }
      ]
    },
    {
      "cell_type": "markdown",
      "source": [
        "##Square Log and SquareRoot"
      ],
      "metadata": {
        "id": "h5LbmN_NQ8U6"
      }
    },
    {
      "cell_type": "code",
      "source": [
        "A=tf.range(1,10)\n",
        "A"
      ],
      "metadata": {
        "colab": {
          "base_uri": "https://localhost:8080/"
        },
        "id": "JzHASYB9QN0u",
        "outputId": "fe1c5bc4-88e0-40f4-ba5d-046d303cdc64"
      },
      "execution_count": 42,
      "outputs": [
        {
          "output_type": "execute_result",
          "data": {
            "text/plain": [
              "<tf.Tensor: shape=(9,), dtype=int32, numpy=array([1, 2, 3, 4, 5, 6, 7, 8, 9], dtype=int32)>"
            ]
          },
          "metadata": {},
          "execution_count": 42
        }
      ]
    },
    {
      "cell_type": "code",
      "source": [
        "tf.math.square(A)"
      ],
      "metadata": {
        "colab": {
          "base_uri": "https://localhost:8080/"
        },
        "id": "GUOXEqwGQ3TX",
        "outputId": "f9dd9090-2445-46c2-ab7f-2853b2603197"
      },
      "execution_count": 43,
      "outputs": [
        {
          "output_type": "execute_result",
          "data": {
            "text/plain": [
              "<tf.Tensor: shape=(9,), dtype=int32, numpy=array([ 1,  4,  9, 16, 25, 36, 49, 64, 81], dtype=int32)>"
            ]
          },
          "metadata": {},
          "execution_count": 43
        }
      ]
    },
    {
      "cell_type": "code",
      "source": [
        "tf.math.sqrt(tf.cast(A,dtype=tf.float32))"
      ],
      "metadata": {
        "colab": {
          "base_uri": "https://localhost:8080/"
        },
        "id": "lyA6bRYDRFxy",
        "outputId": "cbb118c0-c40c-4733-d032-5618a194cf56"
      },
      "execution_count": 44,
      "outputs": [
        {
          "output_type": "execute_result",
          "data": {
            "text/plain": [
              "<tf.Tensor: shape=(9,), dtype=float32, numpy=\n",
              "array([1.       , 1.4142135, 1.7320508, 2.       , 2.2360678, 2.4494896,\n",
              "       2.6457512, 2.828427 , 3.       ], dtype=float32)>"
            ]
          },
          "metadata": {},
          "execution_count": 44
        }
      ]
    },
    {
      "cell_type": "code",
      "source": [
        "tf.math.log(tf.cast(A,dtype=tf.float32))"
      ],
      "metadata": {
        "colab": {
          "base_uri": "https://localhost:8080/"
        },
        "id": "nYFhQRFPRKAb",
        "outputId": "a9a9b971-675b-4a77-9d62-088417b0e67b"
      },
      "execution_count": 45,
      "outputs": [
        {
          "output_type": "execute_result",
          "data": {
            "text/plain": [
              "<tf.Tensor: shape=(9,), dtype=float32, numpy=\n",
              "array([0.       , 0.6931472, 1.0986123, 1.3862944, 1.609438 , 1.7917595,\n",
              "       1.9459102, 2.0794415, 2.1972246], dtype=float32)>"
            ]
          },
          "metadata": {},
          "execution_count": 45
        }
      ]
    },
    {
      "cell_type": "markdown",
      "source": [
        "## Tensors and Numpy"
      ],
      "metadata": {
        "id": "fd4aQo2HRrDB"
      }
    },
    {
      "cell_type": "code",
      "source": [
        "#creating a tensor from an numpy array\n",
        "import numpy as np\n",
        "E=tf.constant(np.array([1.,2,3,5,6]))\n",
        "E"
      ],
      "metadata": {
        "colab": {
          "base_uri": "https://localhost:8080/"
        },
        "id": "QTgVJwfuRWTm",
        "outputId": "fce81bab-441c-49be-9295-851df3851560"
      },
      "execution_count": 46,
      "outputs": [
        {
          "output_type": "execute_result",
          "data": {
            "text/plain": [
              "<tf.Tensor: shape=(5,), dtype=float64, numpy=array([1., 2., 3., 5., 6.])>"
            ]
          },
          "metadata": {},
          "execution_count": 46
        }
      ]
    },
    {
      "cell_type": "code",
      "source": [
        "#converting tensor to numpy array\n",
        "np.array(E)"
      ],
      "metadata": {
        "colab": {
          "base_uri": "https://localhost:8080/"
        },
        "id": "ca1LKeXATRNm",
        "outputId": "7cd8e341-d7e4-4e0e-e68c-e4d6c4a597e3"
      },
      "execution_count": 47,
      "outputs": [
        {
          "output_type": "execute_result",
          "data": {
            "text/plain": [
              "array([1., 2., 3., 5., 6.])"
            ]
          },
          "metadata": {},
          "execution_count": 47
        }
      ]
    },
    {
      "cell_type": "code",
      "source": [
        "E.numpy()"
      ],
      "metadata": {
        "colab": {
          "base_uri": "https://localhost:8080/"
        },
        "id": "opAF94weXEyB",
        "outputId": "23cf8e87-6303-4032-b009-c8e6af7db7cb"
      },
      "execution_count": 48,
      "outputs": [
        {
          "output_type": "execute_result",
          "data": {
            "text/plain": [
              "array([1., 2., 3., 5., 6.])"
            ]
          },
          "metadata": {},
          "execution_count": 48
        }
      ]
    },
    {
      "cell_type": "markdown",
      "source": [
        "Creating a tensor using numpy array give float64 whereaas creating tesnor with normal python list give float32"
      ],
      "metadata": {
        "id": "BlkLqmmmX-Me"
      }
    },
    {
      "cell_type": "code",
      "source": [
        "G=tf.constant([1.,2.,3.])\n",
        "F=tf.constant(np.array([1.,2.,3.]))\n",
        "G.dtype ,F.dtype"
      ],
      "metadata": {
        "colab": {
          "base_uri": "https://localhost:8080/"
        },
        "id": "NUwssD7iXMZa",
        "outputId": "8c4d516c-b40e-43b8-cdfc-960336559f92"
      },
      "execution_count": 49,
      "outputs": [
        {
          "output_type": "execute_result",
          "data": {
            "text/plain": [
              "(tf.float32, tf.float64)"
            ]
          },
          "metadata": {},
          "execution_count": 49
        }
      ]
    },
    {
      "cell_type": "markdown",
      "source": [
        "##Access to GPU's"
      ],
      "metadata": {
        "id": "f2ZaIYeBZM99"
      }
    },
    {
      "cell_type": "code",
      "source": [
        "tf.config.list_physical_devices()"
      ],
      "metadata": {
        "colab": {
          "base_uri": "https://localhost:8080/"
        },
        "id": "TqHLONGlXSSP",
        "outputId": "524b8961-18b1-4e0a-e9d4-a0c54a3a3775"
      },
      "execution_count": 50,
      "outputs": [
        {
          "output_type": "execute_result",
          "data": {
            "text/plain": [
              "[PhysicalDevice(name='/physical_device:CPU:0', device_type='CPU'),\n",
              " PhysicalDevice(name='/physical_device:GPU:0', device_type='GPU')]"
            ]
          },
          "metadata": {},
          "execution_count": 50
        }
      ]
    },
    {
      "cell_type": "code",
      "source": [
        "!nvidia-smi"
      ],
      "metadata": {
        "colab": {
          "base_uri": "https://localhost:8080/"
        },
        "id": "JouWPD2xZX-X",
        "outputId": "c0208ab4-539c-4d2d-f9b7-843c483cadb7"
      },
      "execution_count": 51,
      "outputs": [
        {
          "output_type": "stream",
          "name": "stdout",
          "text": [
            "Sun Jun  1 16:59:26 2025       \n",
            "+-----------------------------------------------------------------------------------------+\n",
            "| NVIDIA-SMI 550.54.15              Driver Version: 550.54.15      CUDA Version: 12.4     |\n",
            "|-----------------------------------------+------------------------+----------------------+\n",
            "| GPU  Name                 Persistence-M | Bus-Id          Disp.A | Volatile Uncorr. ECC |\n",
            "| Fan  Temp   Perf          Pwr:Usage/Cap |           Memory-Usage | GPU-Util  Compute M. |\n",
            "|                                         |                        |               MIG M. |\n",
            "|=========================================+========================+======================|\n",
            "|   0  Tesla T4                       Off |   00000000:00:04.0 Off |                    0 |\n",
            "| N/A   67C    P0             29W /   70W |     106MiB /  15360MiB |      0%      Default |\n",
            "|                                         |                        |                  N/A |\n",
            "+-----------------------------------------+------------------------+----------------------+\n",
            "                                                                                         \n",
            "+-----------------------------------------------------------------------------------------+\n",
            "| Processes:                                                                              |\n",
            "|  GPU   GI   CI        PID   Type   Process name                              GPU Memory |\n",
            "|        ID   ID                                                               Usage      |\n",
            "|=========================================================================================|\n",
            "+-----------------------------------------------------------------------------------------+\n"
          ]
        }
      ]
    },
    {
      "cell_type": "markdown",
      "source": [
        "Note: If you have a CUDA enabled GPU,Tensorflow will automatically use it whenever possible"
      ],
      "metadata": {
        "id": "WMgvxiuPb6Pg"
      }
    },
    {
      "cell_type": "code",
      "source": [],
      "metadata": {
        "id": "jxOlmvHHbxRV"
      },
      "execution_count": null,
      "outputs": []
    }
  ]
}