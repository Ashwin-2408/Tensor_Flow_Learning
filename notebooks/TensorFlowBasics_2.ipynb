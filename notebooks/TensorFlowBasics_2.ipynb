{
  "nbformat": 4,
  "nbformat_minor": 0,
  "metadata": {
    "colab": {
      "provenance": [],
      "authorship_tag": "ABX9TyM4CPgRwqai3+en0oxxbpsu",
      "include_colab_link": true
    },
    "kernelspec": {
      "name": "python3",
      "display_name": "Python 3"
    },
    "language_info": {
      "name": "python"
    }
  },
  "cells": [
    {
      "cell_type": "markdown",
      "metadata": {
        "id": "view-in-github",
        "colab_type": "text"
      },
      "source": [
        "<a href=\"https://colab.research.google.com/github/Ashwin-2408/Tensor_Flow_Learning/blob/main/notebooks/TensorFlowBasics_2.ipynb\" target=\"_parent\"><img src=\"https://colab.research.google.com/assets/colab-badge.svg\" alt=\"Open In Colab\"/></a>"
      ]
    },
    {
      "cell_type": "markdown",
      "source": [
        "## Manipulating Tensors\n",
        "Basics Operations:\n",
        "\n",
        "\n",
        "*  +\n",
        "*  -\n",
        "*   *\n",
        "*  /\n",
        "\n"
      ],
      "metadata": {
        "id": "9NVhEKSV5nMk"
      }
    },
    {
      "cell_type": "code",
      "source": [
        "import tensorflow as tf\n",
        "A=tf.constant([2,2])"
      ],
      "metadata": {
        "id": "631Rv8Ys5saq"
      },
      "execution_count": 2,
      "outputs": []
    },
    {
      "cell_type": "code",
      "source": [
        "A+10"
      ],
      "metadata": {
        "colab": {
          "base_uri": "https://localhost:8080/"
        },
        "id": "FrtIQnVQ7SX2",
        "outputId": "fd25285f-69ec-4831-fadc-2c468f8c8a7e"
      },
      "execution_count": 3,
      "outputs": [
        {
          "output_type": "execute_result",
          "data": {
            "text/plain": [
              "<tf.Tensor: shape=(2,), dtype=int32, numpy=array([12, 12], dtype=int32)>"
            ]
          },
          "metadata": {},
          "execution_count": 3
        }
      ]
    },
    {
      "cell_type": "markdown",
      "source": [
        "It does not change the original tensor"
      ],
      "metadata": {
        "id": "GP2nkktA7rYz"
      }
    },
    {
      "cell_type": "code",
      "source": [
        "A\n"
      ],
      "metadata": {
        "colab": {
          "base_uri": "https://localhost:8080/"
        },
        "id": "1Jd8y4dx7g1R",
        "outputId": "5d82a5c2-c01c-4787-de93-c265c540a657"
      },
      "execution_count": 4,
      "outputs": [
        {
          "output_type": "execute_result",
          "data": {
            "text/plain": [
              "<tf.Tensor: shape=(2,), dtype=int32, numpy=array([2, 2], dtype=int32)>"
            ]
          },
          "metadata": {},
          "execution_count": 4
        }
      ]
    },
    {
      "cell_type": "markdown",
      "source": [
        "Use Tensorflow builtin functions to speed up operations while training"
      ],
      "metadata": {
        "id": "Kan4TzCw72eB"
      }
    },
    {
      "cell_type": "code",
      "source": [
        "tf.multiply(A,4)"
      ],
      "metadata": {
        "colab": {
          "base_uri": "https://localhost:8080/"
        },
        "id": "t-8fefqH7lpy",
        "outputId": "74cc4f8b-4fd2-41e1-f119-ac1ede1862a7"
      },
      "execution_count": 8,
      "outputs": [
        {
          "output_type": "execute_result",
          "data": {
            "text/plain": [
              "<tf.Tensor: shape=(2,), dtype=int32, numpy=array([8, 8], dtype=int32)>"
            ]
          },
          "metadata": {},
          "execution_count": 8
        }
      ]
    },
    {
      "cell_type": "markdown",
      "source": [
        "##Matrix Multiplication\n",
        "Matrix multiplication is the most common operation in Machine Learning"
      ],
      "metadata": {
        "id": "lD7M5xu1-tzK"
      }
    },
    {
      "cell_type": "code",
      "source": [
        "A=tf.constant([[1,3]], shape=[1,2])\n",
        "B=tf.constant([[2,4]],shape=[2,1])\n",
        "A,B"
      ],
      "metadata": {
        "colab": {
          "base_uri": "https://localhost:8080/"
        },
        "id": "jbfwH_vc7uyg",
        "outputId": "f4c3fb37-6c78-4eb0-b10a-4d471be9c727"
      },
      "execution_count": 19,
      "outputs": [
        {
          "output_type": "execute_result",
          "data": {
            "text/plain": [
              "(<tf.Tensor: shape=(1, 2), dtype=int32, numpy=array([[1, 3]], dtype=int32)>,\n",
              " <tf.Tensor: shape=(2, 1), dtype=int32, numpy=\n",
              " array([[2],\n",
              "        [4]], dtype=int32)>)"
            ]
          },
          "metadata": {},
          "execution_count": 19
        }
      ]
    },
    {
      "cell_type": "markdown",
      "source": [
        "The number of columns in the first tensor should be equal to the number of rows in the second tensor"
      ],
      "metadata": {
        "id": "QENRJk6fAnBH"
      }
    },
    {
      "cell_type": "code",
      "source": [
        "tf.linalg.matmul(A,B)"
      ],
      "metadata": {
        "colab": {
          "base_uri": "https://localhost:8080/"
        },
        "id": "fs-uFJw5_4MO",
        "outputId": "35b92206-bdf7-465e-ceed-78fba5da31eb"
      },
      "execution_count": 20,
      "outputs": [
        {
          "output_type": "execute_result",
          "data": {
            "text/plain": [
              "<tf.Tensor: shape=(1, 1), dtype=int32, numpy=array([[14]], dtype=int32)>"
            ]
          },
          "metadata": {},
          "execution_count": 20
        }
      ]
    },
    {
      "cell_type": "code",
      "source": [
        "C=tf.constant([[1,2,3],[3,4,5],[5,6,5]])\n",
        "C"
      ],
      "metadata": {
        "colab": {
          "base_uri": "https://localhost:8080/"
        },
        "id": "qj8r1zY2AK46",
        "outputId": "0790e8d9-fb34-4291-eb35-0a481387ecb0"
      },
      "execution_count": 25,
      "outputs": [
        {
          "output_type": "execute_result",
          "data": {
            "text/plain": [
              "<tf.Tensor: shape=(3, 3), dtype=int32, numpy=\n",
              "array([[1, 2, 3],\n",
              "       [3, 4, 5],\n",
              "       [5, 6, 5]], dtype=int32)>"
            ]
          },
          "metadata": {},
          "execution_count": 25
        }
      ]
    },
    {
      "cell_type": "markdown",
      "source": [
        "Element wise Multiplication"
      ],
      "metadata": {
        "id": "8xiDJcdKBOUs"
      }
    },
    {
      "cell_type": "code",
      "source": [
        "C*C"
      ],
      "metadata": {
        "colab": {
          "base_uri": "https://localhost:8080/"
        },
        "id": "R-MxVdb0BHwt",
        "outputId": "f6a0aac6-bad6-4ca2-b9e6-25b14a89f239"
      },
      "execution_count": 26,
      "outputs": [
        {
          "output_type": "execute_result",
          "data": {
            "text/plain": [
              "<tf.Tensor: shape=(3, 3), dtype=int32, numpy=\n",
              "array([[ 1,  4,  9],\n",
              "       [ 9, 16, 25],\n",
              "       [25, 36, 25]], dtype=int32)>"
            ]
          },
          "metadata": {},
          "execution_count": 26
        }
      ]
    },
    {
      "cell_type": "markdown",
      "source": [
        "The '@' operator in python if for matrix multiplication"
      ],
      "metadata": {
        "id": "IImqgZGKBZCv"
      }
    },
    {
      "cell_type": "code",
      "source": [
        "C@C"
      ],
      "metadata": {
        "colab": {
          "base_uri": "https://localhost:8080/"
        },
        "id": "TNOg0_TVBJk1",
        "outputId": "cec331a6-d930-4514-ddfe-53f76265d835"
      },
      "execution_count": 27,
      "outputs": [
        {
          "output_type": "execute_result",
          "data": {
            "text/plain": [
              "<tf.Tensor: shape=(3, 3), dtype=int32, numpy=\n",
              "array([[22, 28, 28],\n",
              "       [40, 52, 54],\n",
              "       [48, 64, 70]], dtype=int32)>"
            ]
          },
          "metadata": {},
          "execution_count": 27
        }
      ]
    },
    {
      "cell_type": "code",
      "source": [],
      "metadata": {
        "id": "MAjQI5K1BQ5j"
      },
      "execution_count": null,
      "outputs": []
    }
  ]
}